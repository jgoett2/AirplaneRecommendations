{
  "cells": [
    {
      "cell_type": "markdown",
      "id": "049cf084",
      "metadata": {
        "id": "049cf084"
      },
      "source": [
        "# NTSB Aviation Accident Database Analysis"
      ]
    },
    {
      "cell_type": "markdown",
      "id": "ceb690bd",
      "metadata": {
        "id": "ceb690bd"
      },
      "source": [
        "The following analysis looks at the NTSB Accident Database (linked here) and looks at accidents as a function of various database features, with the intention of identifying airplanes with a strong safety record that would be good to purchase for leasing purposes."
      ]
    },
    {
      "cell_type": "markdown",
      "id": "a62eb587",
      "metadata": {
        "id": "a62eb587"
      },
      "source": [
        "## Data Cleaning"
      ]
    },
    {
      "cell_type": "markdown",
      "source": [
        "This particular analysis will look at the following features of the accident report.  \n",
        "\n",
        "To begin, we will readin the data and clean up each of these features`"
      ],
      "metadata": {
        "id": "EYx_JPpHQCQm"
      },
      "id": "EYx_JPpHQCQm"
    },
    {
      "cell_type": "markdown",
      "source": [
        "### Import the Data"
      ],
      "metadata": {
        "id": "yHqQ13I9QYoo"
      },
      "id": "yHqQ13I9QYoo"
    },
    {
      "cell_type": "code",
      "execution_count": null,
      "id": "7ddf27b4",
      "metadata": {
        "id": "7ddf27b4"
      },
      "outputs": [],
      "source": [
        "import pandas as pd\n",
        "import numpy as np\n",
        "import matplotlib.pyplot as plt"
      ]
    },
    {
      "cell_type": "code",
      "execution_count": null,
      "id": "5a61ab7c",
      "metadata": {
        "id": "5a61ab7c",
        "outputId": "f7c95d29-a0c6-4316-af26-92d8666691f0"
      },
      "outputs": [
        {
          "name": "stderr",
          "output_type": "stream",
          "text": [
            "/var/folders/ym/68nrz1n97wj0gz5413bhpqs80000gn/T/ipykernel_11666/2459307861.py:1: DtypeWarning: Columns (6,7,28) have mixed types. Specify dtype option on import or set low_memory=False.\n",
            "  df = pd.read_csv(\"Data/Aviation_Data.csv\")\n"
          ]
        }
      ],
      "source": [
        "df = pd.read_csv(\"Data/Aviation_Data.csv\")"
      ]
    },
    {
      "cell_type": "markdown",
      "id": "de2bc8c7",
      "metadata": {
        "id": "de2bc8c7"
      },
      "source": [
        "### Date of Accident"
      ]
    },
    {
      "cell_type": "markdown",
      "source": [
        "Convert the string representation of Event.Date to a Pandas date-time object and store in same column"
      ],
      "metadata": {
        "id": "6HQrq4RGQoft"
      },
      "id": "6HQrq4RGQoft"
    },
    {
      "cell_type": "code",
      "execution_count": 2,
      "id": "a8084725",
      "metadata": {
        "id": "a8084725",
        "outputId": "27a83317-d8f9-444a-da76-ca8c8f50233f",
        "colab": {
          "base_uri": "https://localhost:8080/",
          "height": 207
        }
      },
      "outputs": [
        {
          "output_type": "error",
          "ename": "NameError",
          "evalue": "name 'pd' is not defined",
          "traceback": [
            "\u001b[0;31m---------------------------------------------------------------------------\u001b[0m",
            "\u001b[0;31mNameError\u001b[0m                                 Traceback (most recent call last)",
            "\u001b[0;32m<ipython-input-2-4ef14b2c16a5>\u001b[0m in \u001b[0;36m<cell line: 1>\u001b[0;34m()\u001b[0m\n\u001b[0;32m----> 1\u001b[0;31m \u001b[0myears\u001b[0m\u001b[0;34m=\u001b[0m\u001b[0mpd\u001b[0m\u001b[0;34m.\u001b[0m\u001b[0mto_datetime\u001b[0m\u001b[0;34m(\u001b[0m\u001b[0mdf\u001b[0m\u001b[0;34m[\u001b[0m\u001b[0;34m\"Event.Date\"\u001b[0m\u001b[0;34m]\u001b[0m\u001b[0;34m,\u001b[0m \u001b[0mformat\u001b[0m\u001b[0;34m=\u001b[0m\u001b[0;34m\"%Y-%m-%d\"\u001b[0m\u001b[0;34m)\u001b[0m\u001b[0;34m.\u001b[0m\u001b[0mdt\u001b[0m\u001b[0;34m.\u001b[0m\u001b[0myear\u001b[0m\u001b[0;34m\u001b[0m\u001b[0;34m\u001b[0m\u001b[0m\n\u001b[0m\u001b[1;32m      2\u001b[0m \u001b[0;31m#np.histogram(years)\u001b[0m\u001b[0;34m\u001b[0m\u001b[0;34m\u001b[0m\u001b[0m\n\u001b[1;32m      3\u001b[0m \u001b[0mcount\u001b[0m\u001b[0;34m,\u001b[0m \u001b[0myears\u001b[0m \u001b[0;34m=\u001b[0m \u001b[0mnp\u001b[0m\u001b[0;34m.\u001b[0m\u001b[0mhistogram\u001b[0m\u001b[0;34m(\u001b[0m\u001b[0myears\u001b[0m\u001b[0;34m[\u001b[0m\u001b[0myears\u001b[0m\u001b[0;34m.\u001b[0m\u001b[0misna\u001b[0m\u001b[0;34m(\u001b[0m\u001b[0;34m)\u001b[0m\u001b[0;34m==\u001b[0m\u001b[0;32mFalse\u001b[0m\u001b[0;34m]\u001b[0m\u001b[0;34m,\u001b[0m \u001b[0mbins\u001b[0m\u001b[0;34m=\u001b[0m\u001b[0mrange\u001b[0m\u001b[0;34m(\u001b[0m\u001b[0;36m1982\u001b[0m\u001b[0;34m,\u001b[0m\u001b[0;36m2024\u001b[0m\u001b[0;34m,\u001b[0m\u001b[0;36m1\u001b[0m\u001b[0;34m)\u001b[0m\u001b[0;34m)\u001b[0m\u001b[0;34m\u001b[0m\u001b[0;34m\u001b[0m\u001b[0m\n\u001b[1;32m      4\u001b[0m \u001b[0;34m\u001b[0m\u001b[0m\n\u001b[1;32m      5\u001b[0m \u001b[0mpd\u001b[0m\u001b[0;34m.\u001b[0m\u001b[0mDataFrame\u001b[0m\u001b[0;34m(\u001b[0m\u001b[0mcount\u001b[0m\u001b[0;34m,\u001b[0m\u001b[0mindex\u001b[0m\u001b[0;34m=\u001b[0m\u001b[0myears\u001b[0m\u001b[0;34m[\u001b[0m\u001b[0;36m0\u001b[0m\u001b[0;34m:\u001b[0m\u001b[0;36m41\u001b[0m\u001b[0;34m]\u001b[0m\u001b[0;34m)\u001b[0m\u001b[0;34m.\u001b[0m\u001b[0mplot\u001b[0m\u001b[0;34m.\u001b[0m\u001b[0mbar\u001b[0m\u001b[0;34m(\u001b[0m\u001b[0;34m)\u001b[0m\u001b[0;34m\u001b[0m\u001b[0;34m\u001b[0m\u001b[0m\n",
            "\u001b[0;31mNameError\u001b[0m: name 'pd' is not defined"
          ]
        }
      ],
      "source": [
        "years=pd.to_datetime(df[\"Event.Date\"], format=\"%Y-%m-%d\").dt.year\n",
        "#np.histogram(years)\n",
        "count, years = np.histogram(years[years.isna()==False], bins=range(1982,2024,1))\n",
        "\n",
        "pd.DataFrame(count,index=years[0:41]).plot.bar()"
      ]
    },
    {
      "cell_type": "markdown",
      "id": "cf35791e",
      "metadata": {
        "id": "cf35791e"
      },
      "source": [
        "### Normalizing Make and Model"
      ]
    },
    {
      "cell_type": "markdown",
      "source": [
        "This analysis will concentrate on the set of airplanes Models that are currently in production.  The dataframe models_of_interest holds data about these models.  \n",
        "The database Make and Model values are updated to use consistent naming."
      ],
      "metadata": {
        "id": "zVNrYBdnQ04s"
      },
      "id": "zVNrYBdnQ04s"
    },
    {
      "cell_type": "code",
      "source": [],
      "metadata": {
        "id": "KBL1oI6uQzJ-"
      },
      "id": "KBL1oI6uQzJ-",
      "execution_count": null,
      "outputs": []
    },
    {
      "cell_type": "code",
      "execution_count": null,
      "id": "e198b86c",
      "metadata": {
        "id": "e198b86c",
        "outputId": "7e51d57c-1142-457e-90b3-acce5e639dbc"
      },
      "outputs": [
        {
          "data": {
            "text/plain": [
              "array([3593, 3556, 3457, 3096, 2880, 2828, 2730, 2544, 2518, 2462, 2355,\n",
              "       2313, 2257, 2309, 2187, 2148, 2226, 2209, 2220, 2063, 2020, 2085,\n",
              "       1952, 2031, 1851, 2016, 1893, 1783, 1786, 1850, 1835, 1561, 1535,\n",
              "       1582, 1664, 1638, 1681, 1624, 1392, 1545, 1607])"
            ]
          },
          "execution_count": 5,
          "metadata": {},
          "output_type": "execute_result"
        }
      ],
      "source": [
        "count"
      ]
    },
    {
      "cell_type": "code",
      "execution_count": null,
      "id": "49a4dbdc",
      "metadata": {
        "id": "49a4dbdc",
        "outputId": "98de14d2-62d4-48d7-bdc5-4be7c2e0bd15"
      },
      "outputs": [
        {
          "data": {
            "text/html": [
              "<div>\n",
              "<style scoped>\n",
              "    .dataframe tbody tr th:only-of-type {\n",
              "        vertical-align: middle;\n",
              "    }\n",
              "\n",
              "    .dataframe tbody tr th {\n",
              "        vertical-align: top;\n",
              "    }\n",
              "\n",
              "    .dataframe thead th {\n",
              "        text-align: right;\n",
              "    }\n",
              "</style>\n",
              "<table border=\"1\" class=\"dataframe\">\n",
              "  <thead>\n",
              "    <tr style=\"text-align: right;\">\n",
              "      <th></th>\n",
              "      <th></th>\n",
              "      <th>Event.Id</th>\n",
              "      <th>Investigation.Type</th>\n",
              "      <th>Accident.Number</th>\n",
              "      <th>Event.Date</th>\n",
              "      <th>Location</th>\n",
              "      <th>Country</th>\n",
              "      <th>Latitude</th>\n",
              "      <th>Longitude</th>\n",
              "      <th>Airport.Code</th>\n",
              "      <th>Airport.Name</th>\n",
              "      <th>...</th>\n",
              "      <th>FAR.Description</th>\n",
              "      <th>Schedule</th>\n",
              "      <th>Total.Fatal.Injuries</th>\n",
              "      <th>Total.Serious.Injuries</th>\n",
              "      <th>Total.Minor.Injuries</th>\n",
              "      <th>Total.Uninjured</th>\n",
              "      <th>Weather.Condition</th>\n",
              "      <th>Broad.phase.of.flight</th>\n",
              "      <th>Report.Status</th>\n",
              "      <th>Publication.Date</th>\n",
              "    </tr>\n",
              "    <tr>\n",
              "      <th>Air.carrier</th>\n",
              "      <th>Purpose.of.flight</th>\n",
              "      <th></th>\n",
              "      <th></th>\n",
              "      <th></th>\n",
              "      <th></th>\n",
              "      <th></th>\n",
              "      <th></th>\n",
              "      <th></th>\n",
              "      <th></th>\n",
              "      <th></th>\n",
              "      <th></th>\n",
              "      <th></th>\n",
              "      <th></th>\n",
              "      <th></th>\n",
              "      <th></th>\n",
              "      <th></th>\n",
              "      <th></th>\n",
              "      <th></th>\n",
              "      <th></th>\n",
              "      <th></th>\n",
              "      <th></th>\n",
              "      <th></th>\n",
              "    </tr>\n",
              "  </thead>\n",
              "  <tbody>\n",
              "  </tbody>\n",
              "</table>\n",
              "<p>0 rows × 29 columns</p>\n",
              "</div>"
            ],
            "text/plain": [
              "Empty DataFrame\n",
              "Columns: [Event.Id, Investigation.Type, Accident.Number, Event.Date, Location, Country, Latitude, Longitude, Airport.Code, Airport.Name, Injury.Severity, Aircraft.damage, Aircraft.Category, Registration.Number, Make, Model, Amateur.Built, Number.of.Engines, Engine.Type, FAR.Description, Schedule, Total.Fatal.Injuries, Total.Serious.Injuries, Total.Minor.Injuries, Total.Uninjured, Weather.Condition, Broad.phase.of.flight, Report.Status, Publication.Date]\n",
              "Index: []\n",
              "\n",
              "[0 rows x 29 columns]"
            ]
          },
          "execution_count": 6,
          "metadata": {},
          "output_type": "execute_result"
        }
      ],
      "source": [
        "df[df[\"Air.carrier\"]==\"UNITED AIRLINES\"].groupby([\"Air.carrier\",\"Purpose.of.flight\"]).count()"
      ]
    },
    {
      "cell_type": "code",
      "execution_count": null,
      "id": "dc7b1f0a",
      "metadata": {
        "id": "dc7b1f0a"
      },
      "outputs": [],
      "source": [
        "df[\"Air.carrier\"].value_counts().to_csv(\"carriers.csv\")"
      ]
    },
    {
      "cell_type": "code",
      "execution_count": null,
      "id": "d4aeb28e",
      "metadata": {
        "id": "d4aeb28e",
        "outputId": "5d2e925a-24ac-47ef-8a5c-91831031643d"
      },
      "outputs": [
        {
          "data": {
            "text/plain": [
              "array(['Boeing', 'Airbus'], dtype=object)"
            ]
          },
          "execution_count": 8,
          "metadata": {},
          "output_type": "execute_result"
        }
      ],
      "source": [
        "def normalize(name, normalized_names):\n",
        "    for x in normalized_names:\n",
        "        if x.lower() in str(name).lower():\n",
        "            return x\n",
        "    return name\n",
        "\n",
        "#manufacturers = {\"Boeing\":\"\", \"Airbus\":\"Airbus\", \"Comac\":\"Comac\", \"Embraer\":\"Embraer\",\n",
        "#\"Havilland\":\"de Havilland\", \"Britten\":\"Britten-Norman\", \"Evektor\":\"Evektor\", \"Cessna\":\"Cessna\", \"Texas Aircraft\":\"Texas Aircraft\", \"Piper\":\"Piper\",\n",
        "#\"Cubcrafters\":\"Cubcrafters\",\"Beechcraft\":\"Beechcraft\",\"Diamond\":\"Diamond\",\n",
        "#\"Cirrus\":\"Cirrus\",\"Bombardier\":\"Bombardier\"}\n",
        "\n",
        "models_of_interest = pd.DataFrame([[\"Boeing\",\"737\",11762], [\"Boeing\",\"767\",1311], [\"Airbus\",\"A320\",11471], [\"Airbus\",\"A340\", 380],\n",
        "[\"Boeing\",'777',1729], [\"Airbus\",\"A319\",1501], [\"Airbus\",'A330',1601], [\"Airbus\",\"A321\",3145],\n",
        "[\"Boeing\",\"787\",1129], [\"Airbus\",\"A350\",602], [\"Airbus\",'A220',335]],columns=[\"Make\",\"Model\",\"Produced\"])\n",
        "\n",
        "df[\"Make\"]=df[\"Make\"].map(lambda x:str(x))\n",
        "df.loc[\"Model\"]=df[\"Model\"].map(lambda x:str(x))\n",
        "\n",
        "df[\"Make\"] = df[\"Make\"].map(lambda x:normalize(x,models_of_interest[\"Make\"].unique()))\n",
        "df[\"Model\"] = df[\"Model\"].map(lambda x:normalize(x,models_of_interest[\"Model\"].unique()))\n",
        "\n",
        "df.to_csv(\"test.csv\")\n",
        "\n",
        "models_of_interest[\"Make\"].unique()\n"
      ]
    },
    {
      "cell_type": "markdown",
      "id": "3c0926f8",
      "metadata": {
        "id": "3c0926f8"
      },
      "source": [
        "Airplane Makes and Models that are not of interest are removed from the data set."
      ]
    },
    {
      "cell_type": "code",
      "execution_count": null,
      "id": "4589060a",
      "metadata": {
        "id": "4589060a"
      },
      "outputs": [],
      "source": [
        "filter = df[\"Make\"].map(lambda x:x in models_of_interest[\"Make\"].unique())\n",
        "df = df[filter]\n",
        "\n",
        "filter = df[\"Model\"].map(lambda x:x in models_of_interest[\"Model\"].unique())\n",
        "df = df[filter]\n",
        "\n",
        "#df[df[\"Make\"]==\"Airbus\"]\n",
        "\n",
        "\n",
        "for col in [\"Total.Serious.Injuries\",\"Total.Fatal.Injuries\"]:\n",
        "    df[col]=df[col].map(lambda x:0 if np.isnan(x) else int(x))\n",
        "\n",
        "incidents = df.groupby([\"Make\",\"Model\"]).count()[\"Total.Serious.Injuries\"]\n",
        "incidents_injuries=df[df[\"Total.Serious.Injuries\"]>0].groupby([\"Make\",\"Model\"]).count()[\"Total.Serious.Injuries\"]\n",
        "\n",
        "incidents_fatal=df[df[\"Total.Fatal.Injuries\"]>0].groupby([\"Make\",\"Model\"]).count()[\"Total.Fatal.Injuries\"]\n",
        "injury_total=df.groupby([\"Make\",\"Model\"]).sum()[[\"Total.Serious.Injuries\",\"Total.Fatal.Injuries\"]]\n"
      ]
    },
    {
      "cell_type": "markdown",
      "id": "b288b1a8",
      "metadata": {
        "id": "b288b1a8"
      },
      "source": [
        "## Data Analysis\n",
        "An analysis then looks at the number of incidents vs. airplane Make and Model."
      ]
    },
    {
      "cell_type": "code",
      "execution_count": null,
      "id": "4f6f63f3",
      "metadata": {
        "id": "4f6f63f3"
      },
      "outputs": [],
      "source": [
        "modelCompare=pd.concat([incidents,incidents_injuries,incidents_fatal,injury_total],axis=1)\n",
        "modelCompare.columns=[\"Incidents-Any\",\"Incidents-Injuries\",\"Incidents-Fatalities\",\"Total Injuries\",\"Total Fatalities\"]\n",
        "\n",
        "for col in modelCompare.columns:\n",
        "    modelCompare[col]=modelCompare[col].map(lambda x: 0 if np.isnan(x) else int(x))\n",
        "\n",
        "\n",
        "produced = models_of_interest.set_index([\"Make\",\"Model\"])\n",
        "modelCompare = modelCompare.sort_values([\"Make\",\"Model\"])\n",
        "modelCompare = pd.concat([modelCompare,produced], axis=1)\n"
      ]
    },
    {
      "cell_type": "code",
      "execution_count": null,
      "id": "4f83c549",
      "metadata": {
        "id": "4f83c549"
      },
      "outputs": [],
      "source": [
        "modelCompare[\"IncidentsRatio\"]=modelCompare[\"Incidents-Any\"]/modelCompare[\"Produced\"]\n",
        "modelCompare[\"IncidentsFatalitiesRatio\"]=modelCompare[\"Incidents-Fatalities\"]/modelCompare[\"Produced\"]\n",
        "modelCompare[\"IncidentsInjuriesRatio\"]=modelCompare[\"Incidents-Injuries\"]/modelCompare[\"Produced\"]"
      ]
    },
    {
      "cell_type": "code",
      "execution_count": null,
      "id": "bb44fe0a",
      "metadata": {
        "id": "bb44fe0a",
        "outputId": "ca9e1e6f-c31a-49f2-f396-e7f22b0561ef"
      },
      "outputs": [
        {
          "data": {
            "text/html": [
              "<div>\n",
              "<style scoped>\n",
              "    .dataframe tbody tr th:only-of-type {\n",
              "        vertical-align: middle;\n",
              "    }\n",
              "\n",
              "    .dataframe tbody tr th {\n",
              "        vertical-align: top;\n",
              "    }\n",
              "\n",
              "    .dataframe thead th {\n",
              "        text-align: right;\n",
              "    }\n",
              "</style>\n",
              "<table border=\"1\" class=\"dataframe\">\n",
              "  <thead>\n",
              "    <tr style=\"text-align: right;\">\n",
              "      <th></th>\n",
              "      <th></th>\n",
              "      <th>Incidents-Any</th>\n",
              "      <th>Incidents-Injuries</th>\n",
              "      <th>Incidents-Fatalities</th>\n",
              "      <th>Total Injuries</th>\n",
              "      <th>Total Fatalities</th>\n",
              "      <th>Produced</th>\n",
              "    </tr>\n",
              "    <tr>\n",
              "      <th>Make</th>\n",
              "      <th>Model</th>\n",
              "      <th></th>\n",
              "      <th></th>\n",
              "      <th></th>\n",
              "      <th></th>\n",
              "      <th></th>\n",
              "      <th></th>\n",
              "    </tr>\n",
              "  </thead>\n",
              "  <tbody>\n",
              "    <tr>\n",
              "      <th rowspan=\"7\" valign=\"top\">Airbus</th>\n",
              "      <th>A220</th>\n",
              "      <td>5</td>\n",
              "      <td>0</td>\n",
              "      <td>0</td>\n",
              "      <td>0</td>\n",
              "      <td>0</td>\n",
              "      <td>335</td>\n",
              "    </tr>\n",
              "    <tr>\n",
              "      <th>A319</th>\n",
              "      <td>52</td>\n",
              "      <td>15</td>\n",
              "      <td>0</td>\n",
              "      <td>62</td>\n",
              "      <td>0</td>\n",
              "      <td>1501</td>\n",
              "    </tr>\n",
              "    <tr>\n",
              "      <th>A320</th>\n",
              "      <td>152</td>\n",
              "      <td>17</td>\n",
              "      <td>10</td>\n",
              "      <td>96</td>\n",
              "      <td>1027</td>\n",
              "      <td>11471</td>\n",
              "    </tr>\n",
              "    <tr>\n",
              "      <th>A321</th>\n",
              "      <td>36</td>\n",
              "      <td>2</td>\n",
              "      <td>2</td>\n",
              "      <td>9</td>\n",
              "      <td>381</td>\n",
              "      <td>3145</td>\n",
              "    </tr>\n",
              "    <tr>\n",
              "      <th>A330</th>\n",
              "      <td>63</td>\n",
              "      <td>6</td>\n",
              "      <td>2</td>\n",
              "      <td>36</td>\n",
              "      <td>331</td>\n",
              "      <td>1601</td>\n",
              "    </tr>\n",
              "    <tr>\n",
              "      <th>A340</th>\n",
              "      <td>5</td>\n",
              "      <td>1</td>\n",
              "      <td>0</td>\n",
              "      <td>2</td>\n",
              "      <td>0</td>\n",
              "      <td>380</td>\n",
              "    </tr>\n",
              "    <tr>\n",
              "      <th>A350</th>\n",
              "      <td>2</td>\n",
              "      <td>0</td>\n",
              "      <td>1</td>\n",
              "      <td>0</td>\n",
              "      <td>1</td>\n",
              "      <td>602</td>\n",
              "    </tr>\n",
              "    <tr>\n",
              "      <th rowspan=\"4\" valign=\"top\">Boeing</th>\n",
              "      <th>737</th>\n",
              "      <td>1040</td>\n",
              "      <td>148</td>\n",
              "      <td>60</td>\n",
              "      <td>1038</td>\n",
              "      <td>3897</td>\n",
              "      <td>11762</td>\n",
              "    </tr>\n",
              "    <tr>\n",
              "      <th>767</th>\n",
              "      <td>213</td>\n",
              "      <td>48</td>\n",
              "      <td>6</td>\n",
              "      <td>251</td>\n",
              "      <td>640</td>\n",
              "      <td>1311</td>\n",
              "    </tr>\n",
              "    <tr>\n",
              "      <th>777</th>\n",
              "      <td>165</td>\n",
              "      <td>26</td>\n",
              "      <td>4</td>\n",
              "      <td>221</td>\n",
              "      <td>538</td>\n",
              "      <td>1729</td>\n",
              "    </tr>\n",
              "    <tr>\n",
              "      <th>787</th>\n",
              "      <td>42</td>\n",
              "      <td>4</td>\n",
              "      <td>0</td>\n",
              "      <td>12</td>\n",
              "      <td>0</td>\n",
              "      <td>1129</td>\n",
              "    </tr>\n",
              "  </tbody>\n",
              "</table>\n",
              "</div>"
            ],
            "text/plain": [
              "              Incidents-Any  Incidents-Injuries  Incidents-Fatalities  \\\n",
              "Make   Model                                                            \n",
              "Airbus A220               5                   0                     0   \n",
              "       A319              52                  15                     0   \n",
              "       A320             152                  17                    10   \n",
              "       A321              36                   2                     2   \n",
              "       A330              63                   6                     2   \n",
              "       A340               5                   1                     0   \n",
              "       A350               2                   0                     1   \n",
              "Boeing 737             1040                 148                    60   \n",
              "       767              213                  48                     6   \n",
              "       777              165                  26                     4   \n",
              "       787               42                   4                     0   \n",
              "\n",
              "              Total Injuries  Total Fatalities  Produced  \n",
              "Make   Model                                              \n",
              "Airbus A220                0                 0       335  \n",
              "       A319               62                 0      1501  \n",
              "       A320               96              1027     11471  \n",
              "       A321                9               381      3145  \n",
              "       A330               36               331      1601  \n",
              "       A340                2                 0       380  \n",
              "       A350                0                 1       602  \n",
              "Boeing 737              1038              3897     11762  \n",
              "       767               251               640      1311  \n",
              "       777               221               538      1729  \n",
              "       787                12                 0      1129  "
            ]
          },
          "execution_count": 12,
          "metadata": {},
          "output_type": "execute_result"
        }
      ],
      "source": [
        "modelCompare[[\"Incidents-Any\",\"Incidents-Injuries\",\"Incidents-Fatalities\",\"Total Injuries\",\"Total Fatalities\",\"Produced\"]]\n"
      ]
    },
    {
      "cell_type": "code",
      "execution_count": null,
      "id": "bae23f67",
      "metadata": {
        "id": "bae23f67",
        "outputId": "07bc6616-e1b5-4639-9705-b226d2109caf"
      },
      "outputs": [
        {
          "data": {
            "image/png": "[encoded data removed]",
            "text/plain": [
              "<Figure size 640x480 with 1 Axes>"
            ]
          },
          "metadata": {},
          "output_type": "display_data"
        }
      ],
      "source": [
        "fig, ax = plt.subplots()\n",
        "modelCompare.plot.bar(y=[\"Incidents-Any\",\"Incidents-Injuries\",\"Incidents-Fatalities\",\"Produced\"], ax=ax)\n",
        "ax.legend([\"Incidents-Any\",\"Incidents-Injuries\",\"Incidents-Fatalities\",\"Planes Produced\"])\n",
        "ax.set_xlabel(\"Model\")\n",
        "ax.set_ylabel(\"Count\")\n",
        "fig.savefig(\"fig1.png\")"
      ]
    },
    {
      "cell_type": "code",
      "execution_count": null,
      "id": "af5ba433",
      "metadata": {
        "id": "af5ba433",
        "outputId": "30d1d47c-d25c-4da0-f180-8f61b955ca3c"
      },
      "outputs": [
        {
          "data": {
            "image/png": "[encoded data removed]",
            "text/plain": [
              "<Figure size 640x480 with 1 Axes>"
            ]
          },
          "metadata": {},
          "output_type": "display_data"
        }
      ],
      "source": [
        "fig, ax = plt.subplots()\n",
        "modelCompare.plot.bar(y=[\"IncidentsRatio\",\"IncidentsInjuriesRatio\",\"IncidentsFatalitiesRatio\"], ax=ax)\n",
        "ax.legend([\"Incidents:Planes Produced\",\"Incidents-Injury:Planes Produced\",\"Incidents-Fatality:Planes Produced\"])\n",
        "fig.savefig(\"fig2.png\")"
      ]
    },
    {
      "cell_type": "code",
      "execution_count": null,
      "id": "bc216017",
      "metadata": {
        "id": "bc216017",
        "outputId": "47443f89-3bf8-416f-8bbf-e452d535c5a3"
      },
      "outputs": [
        {
          "name": "stdout",
          "output_type": "stream",
          "text": [
            "<class 'pandas.core.frame.DataFrame'>\n",
            "Index: 1775 entries, 84 to 90338\n",
            "Data columns (total 31 columns):\n",
            " #   Column                  Non-Null Count  Dtype  \n",
            "---  ------                  --------------  -----  \n",
            " 0   Event.Id                1775 non-null   object \n",
            " 1   Investigation.Type      1775 non-null   object \n",
            " 2   Accident.Number         1775 non-null   object \n",
            " 3   Event.Date              1775 non-null   object \n",
            " 4   Location                1769 non-null   object \n",
            " 5   Country                 1774 non-null   object \n",
            " 6   Latitude                530 non-null    object \n",
            " 7   Longitude               530 non-null    object \n",
            " 8   Airport.Code            635 non-null    object \n",
            " 9   Airport.Name            683 non-null    object \n",
            " 10  Injury.Severity         1280 non-null   object \n",
            " 11  Aircraft.damage         803 non-null    object \n",
            " 12  Aircraft.Category       1166 non-null   object \n",
            " 13  Registration.Number     1612 non-null   object \n",
            " 14  Make                    1775 non-null   object \n",
            " 15  Model                   1775 non-null   object \n",
            " 16  Amateur.Built           1753 non-null   object \n",
            " 17  Number.of.Engines       936 non-null    float64\n",
            " 18  Engine.Type             813 non-null    object \n",
            " 19  FAR.Description         1084 non-null   object \n",
            " 20  Schedule                1353 non-null   object \n",
            " 21  Purpose.of.flight       325 non-null    object \n",
            " 22  Air.carrier             1120 non-null   object \n",
            " 23  Total.Fatal.Injuries    1775 non-null   int64  \n",
            " 24  Total.Serious.Injuries  1775 non-null   int64  \n",
            " 25  Total.Minor.Injuries    1502 non-null   float64\n",
            " 26  Total.Uninjured         1683 non-null   float64\n",
            " 27  Weather.Condition       767 non-null    object \n",
            " 28  Broad.phase.of.flight   396 non-null    object \n",
            " 29  Report.Status           883 non-null    object \n",
            " 30  Publication.Date        1523 non-null   object \n",
            "dtypes: float64(3), int64(2), object(26)\n",
            "memory usage: 443.8+ KB\n"
          ]
        }
      ],
      "source": [
        "df.info()"
      ]
    },
    {
      "cell_type": "code",
      "execution_count": null,
      "id": "ae2d96cb",
      "metadata": {
        "id": "ae2d96cb",
        "outputId": "cb68841f-6166-43e7-ded5-a226201e21ad"
      },
      "outputs": [
        {
          "data": {
            "text/plain": [
              "Number.of.Engines\n",
              "2.0    924\n",
              "0.0      7\n",
              "4.0      3\n",
              "1.0      2\n",
              "Name: count, dtype: int64"
            ]
          },
          "execution_count": 16,
          "metadata": {},
          "output_type": "execute_result"
        }
      ],
      "source": [
        "df[\"Number.of.Engines\"].value_counts()"
      ]
    }
  ],
  "metadata": {
    "kernelspec": {
      "display_name": "Python (learn-env)",
      "language": "python",
      "name": "learn-env"
    },
    "language_info": {
      "codemirror_mode": {
        "name": "ipython",
        "version": 3
      },
      "file_extension": ".py",
      "mimetype": "text/x-python",
      "name": "python",
      "nbconvert_exporter": "python",
      "pygments_lexer": "ipython3",
      "version": "3.9.16"
    },
    "colab": {
      "provenance": [],
      "toc_visible": true
    }
  },
  "nbformat": 4,
  "nbformat_minor": 5
}