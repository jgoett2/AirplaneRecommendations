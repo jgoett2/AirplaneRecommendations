{
 "cells": [
  {
   "cell_type": "markdown",
   "id": "049cf084",
   "metadata": {
    "id": "049cf084"
   },
   "source": [
    "# NTSB Aviation Accident Database Analysis"
   ]
  },
  {
   "cell_type": "markdown",
   "id": "ae7358fb",
   "metadata": {},
   "source": [
    "**Author:** Jeffrey Goett  \n",
    "[LinkedIn](http://www.linkedin.com/in/jeffrey-g-3b3a83a)"
   ]
  },
  {
   "cell_type": "markdown",
   "id": "52327b5f",
   "metadata": {},
   "source": [
    "## Overview\n",
    "This project analyzes the Aviation Accident Database from the National Transportation Safety Board to identify the features of an airplane correlated to airplane safety.  The analysis finds the following:\n",
    "- Airplanes with **turbo jet** or **turbo fan** engines tend to be involved in less severe accidents.\n",
    "- **Narrow-body** and **wide-body** airplanes tend to be involved in less severe accidents than light-body airplanes\n",
    "- Aircraft manufactured by **Airbus** are slightly less likely to be involved in accidents than those by Boeing"
   ]
  },
  {
   "cell_type": "markdown",
   "id": "fd4d4930",
   "metadata": {},
   "source": [
    "## Business Problem"
   ]
  },
  {
   "cell_type": "markdown",
   "id": "e153dd2d",
   "metadata": {},
   "source": [
    "![image info](./images/photo_plane_cover.png)\n",
    "A company would like to purchase and lease airplanes, and wants to identify which features of an airplane are tied to its relative safety. When considering the safety of an aircraft, we will look at two different dimensions - how frequently is an airplane involved in an accident, and when it is in an accident, how  severe are the accidents?  \n",
    "\n",
    "Ideally, this study will help us identify airplanes that are not frequently involved in an accident, and when they are, minimize the severity of the accident.  \n",
    "\n",
    "In particular, this study will look at three features of an airplane, and determine how they affect the airplane safety.  It will look at the Aviation Database from the NTSB and answer these three questions will be addressed:\n",
    "- Is accident severity related to the type of engine used on the airplane?\n",
    "- Is accident severity related to the size of the airplane?\n",
    "- Is the frequency of accidents related to the manufacturer of the aircraft?\n"
   ]
  },
  {
   "cell_type": "markdown",
   "id": "a62eb587",
   "metadata": {
    "id": "a62eb587"
   },
   "source": [
    "## Data Understanding"
   ]
  },
  {
   "cell_type": "markdown",
   "id": "3b258f44",
   "metadata": {},
   "source": [
    "The National Transportation Safety Board Accident Database records every accident that has occurred in the United States since roughly 1982.  Each record includes the date of the accident, the make, model, and engine type of the airplane involved, and the number of serious injuries and fatalities resulting from the accident.  \n",
    "\n",
    "This study will consider an accident to be serious if it involves one or more serious injuries, and an accident to be fatal if it involves one or more fatalities."
   ]
  },
  {
   "cell_type": "code",
   "execution_count": 1,
   "id": "7ddf27b4",
   "metadata": {
    "id": "7ddf27b4"
   },
   "outputs": [],
   "source": [
    "import pandas as pd\n",
    "import numpy as np\n",
    "import matplotlib.pyplot as plt\n",
    "import matplotlib.ticker as ticker"
   ]
  },
  {
   "cell_type": "code",
   "execution_count": 2,
   "id": "5a61ab7c",
   "metadata": {
    "colab": {
     "base_uri": "https://localhost:8080/"
    },
    "id": "5a61ab7c",
    "outputId": "3c3b2735-78f4-4b27-c70c-6184b717b5bc"
   },
   "outputs": [
    {
     "name": "stderr",
     "output_type": "stream",
     "text": [
      "/var/folders/ym/68nrz1n97wj0gz5413bhpqs80000gn/T/ipykernel_54221/3414971824.py:1: DtypeWarning: Columns (6,7,28) have mixed types. Specify dtype option on import or set low_memory=False.\n",
      "  df = pd.read_csv(\"data/Aviation_Data.csv\")\n"
     ]
    }
   ],
   "source": [
    "df = pd.read_csv(\"data/Aviation_Data.csv\")"
   ]
  },
  {
   "cell_type": "code",
   "execution_count": 3,
   "id": "9d082c31",
   "metadata": {},
   "outputs": [
    {
     "data": {
      "text/html": [
       "<div>\n",
       "<style scoped>\n",
       "    .dataframe tbody tr th:only-of-type {\n",
       "        vertical-align: middle;\n",
       "    }\n",
       "\n",
       "    .dataframe tbody tr th {\n",
       "        vertical-align: top;\n",
       "    }\n",
       "\n",
       "    .dataframe thead th {\n",
       "        text-align: right;\n",
       "    }\n",
       "</style>\n",
       "<table border=\"1\" class=\"dataframe\">\n",
       "  <thead>\n",
       "    <tr style=\"text-align: right;\">\n",
       "      <th></th>\n",
       "      <th>Event.Id</th>\n",
       "      <th>Investigation.Type</th>\n",
       "      <th>Accident.Number</th>\n",
       "      <th>Event.Date</th>\n",
       "      <th>Location</th>\n",
       "      <th>Country</th>\n",
       "      <th>Latitude</th>\n",
       "      <th>Longitude</th>\n",
       "      <th>Airport.Code</th>\n",
       "      <th>Airport.Name</th>\n",
       "      <th>...</th>\n",
       "      <th>Purpose.of.flight</th>\n",
       "      <th>Air.carrier</th>\n",
       "      <th>Total.Fatal.Injuries</th>\n",
       "      <th>Total.Serious.Injuries</th>\n",
       "      <th>Total.Minor.Injuries</th>\n",
       "      <th>Total.Uninjured</th>\n",
       "      <th>Weather.Condition</th>\n",
       "      <th>Broad.phase.of.flight</th>\n",
       "      <th>Report.Status</th>\n",
       "      <th>Publication.Date</th>\n",
       "    </tr>\n",
       "  </thead>\n",
       "  <tbody>\n",
       "    <tr>\n",
       "      <th>0</th>\n",
       "      <td>20001218X45444</td>\n",
       "      <td>Accident</td>\n",
       "      <td>SEA87LA080</td>\n",
       "      <td>1948-10-24</td>\n",
       "      <td>MOOSE CREEK, ID</td>\n",
       "      <td>United States</td>\n",
       "      <td>NaN</td>\n",
       "      <td>NaN</td>\n",
       "      <td>NaN</td>\n",
       "      <td>NaN</td>\n",
       "      <td>...</td>\n",
       "      <td>Personal</td>\n",
       "      <td>NaN</td>\n",
       "      <td>2.0</td>\n",
       "      <td>0.0</td>\n",
       "      <td>0.0</td>\n",
       "      <td>0.0</td>\n",
       "      <td>UNK</td>\n",
       "      <td>Cruise</td>\n",
       "      <td>Probable Cause</td>\n",
       "      <td>NaN</td>\n",
       "    </tr>\n",
       "    <tr>\n",
       "      <th>1</th>\n",
       "      <td>20001218X45447</td>\n",
       "      <td>Accident</td>\n",
       "      <td>LAX94LA336</td>\n",
       "      <td>1962-07-19</td>\n",
       "      <td>BRIDGEPORT, CA</td>\n",
       "      <td>United States</td>\n",
       "      <td>NaN</td>\n",
       "      <td>NaN</td>\n",
       "      <td>NaN</td>\n",
       "      <td>NaN</td>\n",
       "      <td>...</td>\n",
       "      <td>Personal</td>\n",
       "      <td>NaN</td>\n",
       "      <td>4.0</td>\n",
       "      <td>0.0</td>\n",
       "      <td>0.0</td>\n",
       "      <td>0.0</td>\n",
       "      <td>UNK</td>\n",
       "      <td>Unknown</td>\n",
       "      <td>Probable Cause</td>\n",
       "      <td>19-09-1996</td>\n",
       "    </tr>\n",
       "    <tr>\n",
       "      <th>2</th>\n",
       "      <td>20061025X01555</td>\n",
       "      <td>Accident</td>\n",
       "      <td>NYC07LA005</td>\n",
       "      <td>1974-08-30</td>\n",
       "      <td>Saltville, VA</td>\n",
       "      <td>United States</td>\n",
       "      <td>36.922223</td>\n",
       "      <td>-81.878056</td>\n",
       "      <td>NaN</td>\n",
       "      <td>NaN</td>\n",
       "      <td>...</td>\n",
       "      <td>Personal</td>\n",
       "      <td>NaN</td>\n",
       "      <td>3.0</td>\n",
       "      <td>NaN</td>\n",
       "      <td>NaN</td>\n",
       "      <td>NaN</td>\n",
       "      <td>IMC</td>\n",
       "      <td>Cruise</td>\n",
       "      <td>Probable Cause</td>\n",
       "      <td>26-02-2007</td>\n",
       "    </tr>\n",
       "  </tbody>\n",
       "</table>\n",
       "<p>3 rows × 31 columns</p>\n",
       "</div>"
      ],
      "text/plain": [
       "         Event.Id Investigation.Type Accident.Number  Event.Date  \\\n",
       "0  20001218X45444           Accident      SEA87LA080  1948-10-24   \n",
       "1  20001218X45447           Accident      LAX94LA336  1962-07-19   \n",
       "2  20061025X01555           Accident      NYC07LA005  1974-08-30   \n",
       "\n",
       "          Location        Country   Latitude  Longitude Airport.Code  \\\n",
       "0  MOOSE CREEK, ID  United States        NaN        NaN          NaN   \n",
       "1   BRIDGEPORT, CA  United States        NaN        NaN          NaN   \n",
       "2    Saltville, VA  United States  36.922223 -81.878056          NaN   \n",
       "\n",
       "  Airport.Name  ... Purpose.of.flight Air.carrier Total.Fatal.Injuries  \\\n",
       "0          NaN  ...          Personal         NaN                  2.0   \n",
       "1          NaN  ...          Personal         NaN                  4.0   \n",
       "2          NaN  ...          Personal         NaN                  3.0   \n",
       "\n",
       "  Total.Serious.Injuries Total.Minor.Injuries Total.Uninjured  \\\n",
       "0                    0.0                  0.0             0.0   \n",
       "1                    0.0                  0.0             0.0   \n",
       "2                    NaN                  NaN             NaN   \n",
       "\n",
       "  Weather.Condition  Broad.phase.of.flight   Report.Status Publication.Date  \n",
       "0               UNK                 Cruise  Probable Cause              NaN  \n",
       "1               UNK                Unknown  Probable Cause       19-09-1996  \n",
       "2               IMC                 Cruise  Probable Cause       26-02-2007  \n",
       "\n",
       "[3 rows x 31 columns]"
      ]
     },
     "execution_count": 3,
     "metadata": {},
     "output_type": "execute_result"
    }
   ],
   "source": [
    "df.head(3)"
   ]
  },
  {
   "cell_type": "markdown",
   "id": "baaf6791",
   "metadata": {},
   "source": [
    "Additional data on each model of airplane is imported.  This helps to identify the category of airplane (narrow-body or wide-body), and whether the airplane is currently in production."
   ]
  },
  {
   "cell_type": "code",
   "execution_count": 4,
   "id": "781b0bc0",
   "metadata": {},
   "outputs": [],
   "source": [
    "dtypes_def = {'Make':'str','Model':'str','In Production':'bool','Make-Norm':'str','Model-Norm':'str'}\n",
    "planes_wide_body = pd.read_csv(\"data/wide-body-planes.csv\",dtype=dtypes_def)\n",
    "planes_narrow_body = pd.read_csv(\"data/narrow-body-planes.csv\",dtype=dtypes_def)\n",
    "planes_light_body = pd.read_csv(\"data/light-body-planes.csv\",dtype=dtypes_def)\n",
    "\n",
    "carriers = pd.read_csv(\"data/carriers.csv\")\n",
    "\n",
    "planes_all = pd.concat([planes_wide_body, planes_narrow_body, planes_light_body])\n",
    "planes_all.set_index(np.arange(0,len(planes_all)),inplace=True)\n",
    "\n",
    "df[\"Model\"]=df[\"Model\"].map(lambda x:str(x))"
   ]
  },
  {
   "cell_type": "code",
   "execution_count": 5,
   "id": "466a9390",
   "metadata": {},
   "outputs": [
    {
     "data": {
      "text/html": [
       "<div>\n",
       "<style scoped>\n",
       "    .dataframe tbody tr th:only-of-type {\n",
       "        vertical-align: middle;\n",
       "    }\n",
       "\n",
       "    .dataframe tbody tr th {\n",
       "        vertical-align: top;\n",
       "    }\n",
       "\n",
       "    .dataframe thead th {\n",
       "        text-align: right;\n",
       "    }\n",
       "</style>\n",
       "<table border=\"1\" class=\"dataframe\">\n",
       "  <thead>\n",
       "    <tr style=\"text-align: right;\">\n",
       "      <th></th>\n",
       "      <th>Make-Key</th>\n",
       "      <th>Model-Key</th>\n",
       "      <th>Seating</th>\n",
       "      <th>In Production</th>\n",
       "      <th>Aircraft.Type</th>\n",
       "      <th>Make-Norm</th>\n",
       "      <th>Model-Norm</th>\n",
       "    </tr>\n",
       "  </thead>\n",
       "  <tbody>\n",
       "    <tr>\n",
       "      <th>0</th>\n",
       "      <td>Airbus</td>\n",
       "      <td>300</td>\n",
       "      <td>172</td>\n",
       "      <td>False</td>\n",
       "      <td>wide-body</td>\n",
       "      <td>Airbus</td>\n",
       "      <td>A300</td>\n",
       "    </tr>\n",
       "    <tr>\n",
       "      <th>1</th>\n",
       "      <td>Airbus</td>\n",
       "      <td>310</td>\n",
       "      <td>164</td>\n",
       "      <td>False</td>\n",
       "      <td>wide-body</td>\n",
       "      <td>Airbus</td>\n",
       "      <td>A310</td>\n",
       "    </tr>\n",
       "    <tr>\n",
       "      <th>2</th>\n",
       "      <td>Airbus</td>\n",
       "      <td>330</td>\n",
       "      <td>242</td>\n",
       "      <td>True</td>\n",
       "      <td>wide-body</td>\n",
       "      <td>Airbus</td>\n",
       "      <td>A330</td>\n",
       "    </tr>\n",
       "  </tbody>\n",
       "</table>\n",
       "</div>"
      ],
      "text/plain": [
       "  Make-Key Model-Key  Seating  In Production Aircraft.Type Make-Norm  \\\n",
       "0   Airbus       300      172          False     wide-body    Airbus   \n",
       "1   Airbus       310      164          False     wide-body    Airbus   \n",
       "2   Airbus       330      242           True     wide-body    Airbus   \n",
       "\n",
       "  Model-Norm  \n",
       "0       A300  \n",
       "1       A310  \n",
       "2       A330  "
      ]
     },
     "execution_count": 5,
     "metadata": {},
     "output_type": "execute_result"
    }
   ],
   "source": [
    "planes_all.head(3)"
   ]
  },
  {
   "cell_type": "markdown",
   "id": "08466e55",
   "metadata": {},
   "source": [
    "For example, here are the Boeing and Airbus planes currently in production."
   ]
  },
  {
   "cell_type": "code",
   "execution_count": 6,
   "id": "c0065e3e",
   "metadata": {},
   "outputs": [
    {
     "data": {
      "text/html": [
       "<div>\n",
       "<style scoped>\n",
       "    .dataframe tbody tr th:only-of-type {\n",
       "        vertical-align: middle;\n",
       "    }\n",
       "\n",
       "    .dataframe tbody tr th {\n",
       "        vertical-align: top;\n",
       "    }\n",
       "\n",
       "    .dataframe thead th {\n",
       "        text-align: right;\n",
       "    }\n",
       "</style>\n",
       "<table border=\"1\" class=\"dataframe\">\n",
       "  <thead>\n",
       "    <tr style=\"text-align: right;\">\n",
       "      <th></th>\n",
       "      <th></th>\n",
       "      <th>Make-Key</th>\n",
       "      <th>Model-Key</th>\n",
       "      <th>Seating</th>\n",
       "      <th>In Production</th>\n",
       "      <th>Aircraft.Type</th>\n",
       "    </tr>\n",
       "    <tr>\n",
       "      <th>Make-Norm</th>\n",
       "      <th>Model-Norm</th>\n",
       "      <th></th>\n",
       "      <th></th>\n",
       "      <th></th>\n",
       "      <th></th>\n",
       "      <th></th>\n",
       "    </tr>\n",
       "  </thead>\n",
       "  <tbody>\n",
       "    <tr>\n",
       "      <th rowspan=\"6\" valign=\"top\">Airbus</th>\n",
       "      <th>A220</th>\n",
       "      <td>2</td>\n",
       "      <td>2</td>\n",
       "      <td>2</td>\n",
       "      <td>2</td>\n",
       "      <td>2</td>\n",
       "    </tr>\n",
       "    <tr>\n",
       "      <th>A319</th>\n",
       "      <td>2</td>\n",
       "      <td>2</td>\n",
       "      <td>2</td>\n",
       "      <td>2</td>\n",
       "      <td>2</td>\n",
       "    </tr>\n",
       "    <tr>\n",
       "      <th>A320</th>\n",
       "      <td>2</td>\n",
       "      <td>2</td>\n",
       "      <td>2</td>\n",
       "      <td>2</td>\n",
       "      <td>2</td>\n",
       "    </tr>\n",
       "    <tr>\n",
       "      <th>A321</th>\n",
       "      <td>2</td>\n",
       "      <td>2</td>\n",
       "      <td>2</td>\n",
       "      <td>2</td>\n",
       "      <td>2</td>\n",
       "    </tr>\n",
       "    <tr>\n",
       "      <th>A330</th>\n",
       "      <td>2</td>\n",
       "      <td>2</td>\n",
       "      <td>2</td>\n",
       "      <td>2</td>\n",
       "      <td>2</td>\n",
       "    </tr>\n",
       "    <tr>\n",
       "      <th>A350</th>\n",
       "      <td>1</td>\n",
       "      <td>1</td>\n",
       "      <td>1</td>\n",
       "      <td>1</td>\n",
       "      <td>1</td>\n",
       "    </tr>\n",
       "    <tr>\n",
       "      <th rowspan=\"4\" valign=\"top\">Boeing</th>\n",
       "      <th>737</th>\n",
       "      <td>1</td>\n",
       "      <td>1</td>\n",
       "      <td>1</td>\n",
       "      <td>1</td>\n",
       "      <td>1</td>\n",
       "    </tr>\n",
       "    <tr>\n",
       "      <th>767</th>\n",
       "      <td>1</td>\n",
       "      <td>1</td>\n",
       "      <td>1</td>\n",
       "      <td>1</td>\n",
       "      <td>1</td>\n",
       "    </tr>\n",
       "    <tr>\n",
       "      <th>777</th>\n",
       "      <td>1</td>\n",
       "      <td>1</td>\n",
       "      <td>1</td>\n",
       "      <td>1</td>\n",
       "      <td>1</td>\n",
       "    </tr>\n",
       "    <tr>\n",
       "      <th>787</th>\n",
       "      <td>1</td>\n",
       "      <td>1</td>\n",
       "      <td>1</td>\n",
       "      <td>1</td>\n",
       "      <td>1</td>\n",
       "    </tr>\n",
       "  </tbody>\n",
       "</table>\n",
       "</div>"
      ],
      "text/plain": [
       "                      Make-Key  Model-Key  Seating  In Production  \\\n",
       "Make-Norm Model-Norm                                                \n",
       "Airbus    A220               2          2        2              2   \n",
       "          A319               2          2        2              2   \n",
       "          A320               2          2        2              2   \n",
       "          A321               2          2        2              2   \n",
       "          A330               2          2        2              2   \n",
       "          A350               1          1        1              1   \n",
       "Boeing    737                1          1        1              1   \n",
       "          767                1          1        1              1   \n",
       "          777                1          1        1              1   \n",
       "          787                1          1        1              1   \n",
       "\n",
       "                      Aircraft.Type  \n",
       "Make-Norm Model-Norm                 \n",
       "Airbus    A220                    2  \n",
       "          A319                    2  \n",
       "          A320                    2  \n",
       "          A321                    2  \n",
       "          A330                    2  \n",
       "          A350                    1  \n",
       "Boeing    737                     1  \n",
       "          767                     1  \n",
       "          777                     1  \n",
       "          787                     1  "
      ]
     },
     "execution_count": 6,
     "metadata": {},
     "output_type": "execute_result"
    }
   ],
   "source": [
    "filter1 = planes_all[\"In Production\"]\n",
    "filter2 = (planes_all[\"Make-Norm\"] == \"Boeing\") | (planes_all[\"Make-Norm\"] == \"Airbus\") \n",
    "planes_all.loc[filter1 & filter2].groupby([\"Make-Norm\",\"Model-Norm\"]).count()"
   ]
  },
  {
   "cell_type": "markdown",
   "id": "9a57f2d4",
   "metadata": {},
   "source": [
    "## Data Cleaning"
   ]
  },
  {
   "cell_type": "markdown",
   "id": "de2bc8c7",
   "metadata": {
    "id": "de2bc8c7"
   },
   "source": [
    "### Impute Data"
   ]
  },
  {
   "cell_type": "markdown",
   "id": "49d9d5aa",
   "metadata": {},
   "source": [
    "When the number of injuries and fatalities is blank, we will set it to 0."
   ]
  },
  {
   "cell_type": "code",
   "execution_count": 7,
   "id": "53e4e239-31f7-4359-b2a3-da02045c0123",
   "metadata": {},
   "outputs": [],
   "source": [
    "df.loc[df[\"Total.Serious.Injuries\"].isna(),\"Total.Serious.Injuries\"]=0\n",
    "df.loc[df[\"Total.Fatal.Injuries\"].isna(),\"Total.Fatal.Injuries\"]=0"
   ]
  },
  {
   "cell_type": "markdown",
   "id": "cf35791e",
   "metadata": {
    "id": "cf35791e"
   },
   "source": [
    "### Normalize Make, Model, and Air Carrier"
   ]
  },
  {
   "cell_type": "markdown",
   "id": "zVNrYBdnQ04s",
   "metadata": {
    "id": "zVNrYBdnQ04s"
   },
   "source": [
    "This code standardizes the name of the Make, Model, and Air Carrier used in the database"
   ]
  },
  {
   "cell_type": "code",
   "execution_count": 8,
   "id": "c52f8e4d-6a2b-4b95-b44f-32d434936628",
   "metadata": {},
   "outputs": [],
   "source": [
    "import code.data_preparation as dp"
   ]
  },
  {
   "cell_type": "code",
   "execution_count": 9,
   "id": "ab8dba2b",
   "metadata": {},
   "outputs": [],
   "source": [
    "df[\"Make\"] = dp.normalize_make(df,planes_all)\n",
    "df[\"Model\"] = dp.normalize_model(df,planes_all)\n",
    "df[\"Air.carrier\"] = dp.normalize_carrier(df,carriers)"
   ]
  },
  {
   "cell_type": "markdown",
   "id": "0bc919dd-6061-499b-99d7-80b8ed4a5bda",
   "metadata": {},
   "source": [
    "### Add Aircraft Type and Production Status"
   ]
  },
  {
   "cell_type": "markdown",
   "id": "98297e82",
   "metadata": {},
   "source": [
    "We add the type of aircraft (narrow-body, wide-body, regional set, or light-body) to the database.  We also indicate whether the airplane is currently in production."
   ]
  },
  {
   "cell_type": "code",
   "execution_count": 10,
   "id": "860b23dc",
   "metadata": {},
   "outputs": [],
   "source": [
    "df[\"Aircraft.Type\"] = dp.lookup_aircraft_type(df,planes_all)\n",
    "df[\"In.Production\"] = dp.lookup_production(df,planes_all)"
   ]
  },
  {
   "cell_type": "markdown",
   "id": "c9d98ede-1c50-41a4-bff5-e3dbbeaa158d",
   "metadata": {},
   "source": [
    "### Format Date"
   ]
  },
  {
   "cell_type": "markdown",
   "id": "0409d53b",
   "metadata": {},
   "source": [
    "Convert the string representation of Event.Date to a Pandas date-time object and store in same column.  Store the year in a new column \"Year.\""
   ]
  },
  {
   "cell_type": "code",
   "execution_count": 11,
   "id": "c598378e",
   "metadata": {},
   "outputs": [],
   "source": [
    "df[\"Event.Date\"]=pd.to_datetime(df[\"Event.Date\"], format=\"%Y-%m-%d\")\n",
    "df[\"Year\"] = df[\"Event.Date\"].dt.year"
   ]
  },
  {
   "cell_type": "markdown",
   "id": "7e41f5e3",
   "metadata": {},
   "source": [
    "As an overview, we can graph the number of accidents over time:"
   ]
  },
  {
   "cell_type": "code",
   "execution_count": 12,
   "id": "491c64d7",
   "metadata": {},
   "outputs": [
    {
     "data": {
      "image/png": "[encoded data removed]",
      "text/plain": [
       "<Figure size 640x480 with 1 Axes>"
      ]
     },
     "metadata": {},
     "output_type": "display_data"
    }
   ],
   "source": [
    "from matplotlib.ticker import FormatStrFormatter\n",
    "filter_minor = (df[\"Total.Serious.Injuries\"] == 0) & (df[\"Total.Fatal.Injuries\"] == 0)\n",
    "filter_serious = (df[\"Total.Serious.Injuries\"] > 0) & (df[\"Total.Fatal.Injuries\"] == 0)\n",
    "filter_fatal = df[\"Total.Fatal.Injuries\"] > 0\n",
    "\n",
    "accident_all=df.groupby(\"Year\").count()[\"Event.Id\"]\n",
    "accident_serious=df[filter_serious].groupby(\"Year\").count()[\"Event.Id\"]\n",
    "accident_fatal=df[filter_fatal].groupby(\"Year\").count()[\"Event.Id\"]\n",
    "\n",
    "accident_time=pd.concat([accident_all,accident_serious,accident_fatal],axis=1)\n",
    "accident_time.columns= [\"Minor\",\"Serious Injuries\",\"Fatalities\"]\n",
    "\n",
    "fig,ax=plt.subplots()\n",
    "accident_time[accident_time.index>1981].plot.bar(stacked=True, ax=ax)\n",
    "\n",
    "ax.set_title(\"Accidents vs. Time by Severity\", fontsize=16)\n",
    "ax.set_xlabel(\"Year\",fontsize=14)\n",
    "ax.set_ylabel(\"Count\", fontsize=14)\n",
    "\n",
    "tick_spacing = 3\n",
    "\n",
    "ax.xaxis.set_major_locator(ticker.MultipleLocator(tick_spacing))\n",
    "#ax.xaxis.set_major_formatter(FormatStrFormatter('%f'))\n",
    "\n",
    "fig.savefig(\"images/accident_time.png\",bbox_inches=\"tight\")"
   ]
  },
  {
   "cell_type": "markdown",
   "id": "b288b1a8",
   "metadata": {
    "id": "b288b1a8"
   },
   "source": [
    "## Data Analysis"
   ]
  },
  {
   "cell_type": "markdown",
   "id": "51f90971-3e86-439f-8551-e73847254e1f",
   "metadata": {},
   "source": [
    "### Accident Severity vs. Engine Type"
   ]
  },
  {
   "cell_type": "markdown",
   "id": "5d8126b8",
   "metadata": {},
   "source": [
    "We consider whether the type of airplane engine has a relationship to the severity of accident the plane is involved in.  Based on the graph below, we see a strong correlation between the type of engine and the proportion of fatal accidents an airplane is involved in.  Both turbo jet and turbo fan engine types are associated with fewer accidents involving fatalities."
   ]
  },
  {
   "cell_type": "code",
   "execution_count": 13,
   "id": "a5ae3620",
   "metadata": {},
   "outputs": [
    {
     "data": {
      "image/png": "[encoded data removed]",
      "text/plain": [
       "<Figure size 640x480 with 1 Axes>"
      ]
     },
     "metadata": {},
     "output_type": "display_data"
    }
   ],
   "source": [
    "fig,ax=plt.subplots()\n",
    "engine_analysis = pd.DataFrame()\n",
    "\n",
    "filter = df[\"In.Production\"]==True\n",
    "\n",
    "filter2 = (df[\"Total.Serious.Injuries\"]>0) | (df[\"Total.Fatal.Injuries\"]>0)\n",
    "\n",
    "engine_analysis[\"accident.all\"] = df[filter].groupby(\"Engine.Type\").count()[\"Event.Id\"]\n",
    "engine_analysis[\"accident.injury\"] = df[filter & filter2].groupby(\"Engine.Type\").count()[\"Event.Id\"]\n",
    "engine_analysis[\"accident.fatal\"] = df[filter & df[\"Total.Fatal.Injuries\"]>0].groupby(\"Engine.Type\").count()[\"Event.Id\"]\n",
    "\n",
    "engine_analysis[\"ratio.injury\"] = engine_analysis[\"accident.injury\"]/engine_analysis[\"accident.all\"]\n",
    "engine_analysis[\"ratio.fatal\"] = engine_analysis[\"accident.fatal\"]/engine_analysis[\"accident.all\"]\n",
    "\n",
    "\n",
    "engines = [\"Reciprocating\",\"Turbo Prop\",\"Turbo Shaft\",\"Turbo Jet\",\"Turbo Fan\",]\n",
    "engine_analysis.loc[engines,[\"ratio.injury\",\"ratio.fatal\"]].plot.bar(ax=ax)\n",
    "engine_analysis\n",
    "\n",
    "ax.set_title(\"Accident Severity vs. Engine Type\", fontsize=16)\n",
    "ax.set_xlabel(\"Engine Type\",fontsize=14)\n",
    "ax.set_ylabel(\"Fraction of Accidents\", fontsize=14)\n",
    "ax.legend([\"involving injury\",\"involving fatality\"])\n",
    "\n",
    "fig.savefig(\"images/engine_type.png\",bbox_inches=\"tight\")"
   ]
  },
  {
   "cell_type": "markdown",
   "id": "41b32a8d-b3e7-498b-b1aa-6bc12331c471",
   "metadata": {},
   "source": [
    "### Accident Severity vs. Aircraft Type"
   ]
  },
  {
   "cell_type": "markdown",
   "id": "365ba66a",
   "metadata": {},
   "source": [
    "We consider whether the type of airplane has a relationship to the severity of accident the plane is involved in.  Based on the graph below, we see a strong correlation between the type of airplane and the proportion of fatal accidents an airplane is involved in.  There is also a correlation between the type of airplane and the proportion of accidents involving an injury."
   ]
  },
  {
   "cell_type": "code",
   "execution_count": 14,
   "id": "951d7af4",
   "metadata": {},
   "outputs": [
    {
     "data": {
      "image/png": "[encoded data removed]",
      "text/plain": [
       "<Figure size 640x480 with 1 Axes>"
      ]
     },
     "metadata": {},
     "output_type": "display_data"
    }
   ],
   "source": [
    "fig,ax=plt.subplots()\n",
    "\n",
    "type_analysis = pd.DataFrame()\n",
    "\n",
    "filter = (df[\"In.Production\"]==True)\n",
    "\n",
    "filter2 = (df[\"Total.Serious.Injuries\"]>0) | (df[\"Total.Fatal.Injuries\"]>0)\n",
    "\n",
    "type_analysis[\"accident.all\"] = df[filter].groupby(\"Aircraft.Type\").count()[\"Event.Id\"]\n",
    "type_analysis[\"accident.serious\"] = df[filter & filter2].groupby(\"Aircraft.Type\").count()[\"Event.Id\"]\n",
    "type_analysis[\"accident.fatal\"] = df[filter & df[\"Total.Fatal.Injuries\"]>0].groupby(\"Aircraft.Type\").count()[\"Event.Id\"]\n",
    "\n",
    "type_analysis[\"ratio.serious\"] = type_analysis[\"accident.serious\"]/type_analysis[\"accident.all\"]\n",
    "type_analysis[\"ratio.fatal\"] = type_analysis[\"accident.fatal\"]/type_analysis[\"accident.all\"]\n",
    "\n",
    "aircraft_type=[\"light-body\",\"regional jet\",\"narrow-body\",\"wide-body\"]\n",
    "type_analysis.loc[aircraft_type,[\"ratio.serious\",\"ratio.fatal\"]].plot.bar(ax=ax)\n",
    "type_analysis\n",
    "\n",
    "ax.set_title(\"Accident Severity vs. Airplane Type\", fontsize=16)\n",
    "ax.set_xlabel(\"Airplane Type\",fontsize=14)\n",
    "ax.set_ylabel(\"Fraction of Accidents\", fontsize=14)\n",
    "ax.legend([\"involving injury\",\"involving fatality\"])\n",
    "\n",
    "fig.savefig(\"images/airplane_type.png\",bbox_inches=\"tight\")"
   ]
  },
  {
   "cell_type": "markdown",
   "id": "8ed2230d-9664-4d03-84d9-a3be757dab45",
   "metadata": {},
   "source": [
    "### Accident Frequency vs. Make\n"
   ]
  },
  {
   "cell_type": "markdown",
   "id": "9kkdHTf0Dw3N",
   "metadata": {
    "id": "9kkdHTf0Dw3N"
   },
   "source": [
    "Finally, we would like to consider whether Boeing or Airbus airplanes are involved in accidents more frequently.  We compare the relative number of Boeing and Airbus planes in service vs. the relative number of accidents they are involved in.\n",
    "From the graph below, we see that Boeing aircraft are over-represented in the number of accidents logged by the top 3 carriers.  While 60% of the aircraft the carriers fleets are Boeing aircraft, 75% of accidents logged by the carries involved Boeing airplanes."
   ]
  },
  {
   "cell_type": "code",
   "execution_count": 15,
   "id": "4422162a",
   "metadata": {},
   "outputs": [
    {
     "data": {
      "image/png": "[encoded data removed]",
      "text/plain": [
       "<Figure size 640x480 with 1 Axes>"
      ]
     },
     "metadata": {},
     "output_type": "display_data"
    }
   ],
   "source": [
    "fig,ax=plt.subplots()\n",
    "filter_carrier = df[\"Air.carrier\"].map(lambda x: x in [\"United Airlines\",\"American Airlines\",\"Delta Airlines\"])\n",
    "\n",
    "filter_year = df[\"Year\"]>=2013\n",
    "results=df[filter_carrier & filter_year].groupby(\"Make\").count()\n",
    "\n",
    "boeing_accidents=results.loc[\"Boeing\",\"Event.Id\"]\n",
    "airbus_accidents=results.loc[\"Airbus\",\"Event.Id\"]\n",
    "\n",
    "boeing_percent=boeing_accidents/(boeing_accidents+airbus_accidents)\n",
    "airbus_percent=airbus_accidents/(boeing_accidents+airbus_accidents)\n",
    "\n",
    "boeing_inservice=(505+61+53+96+71)+(133+48+298)+(71+57+59+188+70+30)\n",
    "airbus_inservice=(81+85+12)+(365+67+59)+(88+240+121+64)\n",
    "\n",
    "boeing_service_per = boeing_inservice/(boeing_inservice+airbus_inservice)\n",
    "airbus_service_per = airbus_inservice/(boeing_inservice+airbus_inservice)\n",
    "\n",
    "\n",
    "\n",
    "results = pd.DataFrame({\"Boeing\":[boeing_service_per,boeing_percent],\n",
    "                        \"Airbus\":[airbus_service_per,airbus_percent]},index=[\"In-Service\",\"Accidents\"])\n",
    "\n",
    "results.plot.bar(stacked=True, ax=ax)\n",
    "\n",
    "ax.set_title(\"Largest 3 U.S. Airlines (2013-present)\", fontsize=12)\n",
    "fig.suptitle(\"Representation by Manufacturer\", fontsize=16)\n",
    "ax.set_xlabel(\"Property\",fontsize=14)\n",
    "ax.set_ylabel(\"Fraction\", fontsize=14)\n",
    "ax.legend([\"Boeing\",\"Airbus\"])\n",
    "\n",
    "fig.savefig(\"images/make_type.png\",bbox_inches=\"tight\")"
   ]
  },
  {
   "cell_type": "markdown",
   "id": "b66dbec0",
   "metadata": {},
   "source": [
    "## Conclusions"
   ]
  },
  {
   "cell_type": "markdown",
   "id": "8e75331e",
   "metadata": {},
   "source": [
    "Based on this analysis, we can make these recommendations to help minimize the safety risk of an airplane purchase.  \n",
    "- **Engine Type:** Select a Turbo Jet or Turbo Fan engine\n",
    "- **Airplane Type:** Select a Narrow-Body or Wide-Body aircraft\n",
    "- **Make:** Select an Airbus manufactured airplane."
   ]
  }
 ],
 "metadata": {
  "colab": {
   "collapsed_sections": [
    "gd9sitw4YLFy"
   ],
   "provenance": []
  },
  "kernelspec": {
   "display_name": "Python (learn-env)",
   "language": "python",
   "name": "learn-env"
  },
  "language_info": {
   "codemirror_mode": {
    "name": "ipython",
    "version": 3
   },
   "file_extension": ".py",
   "mimetype": "text/x-python",
   "name": "python",
   "nbconvert_exporter": "python",
   "pygments_lexer": "ipython3",
   "version": "3.9.16"
  }
 },
 "nbformat": 4,
 "nbformat_minor": 5
}
