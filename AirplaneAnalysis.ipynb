{
 "cells": [
  {
   "cell_type": "code",
   "execution_count": 1,
   "id": "b5c6c29c",
   "metadata": {
    "scrolled": true
   },
   "outputs": [
    {
     "name": "stderr",
     "output_type": "stream",
     "text": [
      "/var/folders/ym/68nrz1n97wj0gz5413bhpqs80000gn/T/ipykernel_2858/2692933316.py:3: DtypeWarning: Columns (6,7,28) have mixed types. Specify dtype option on import or set low_memory=False.\n",
      "  df = pd.read_csv(\"Data/Aviation_Data.csv\")\n"
     ]
    },
    {
     "data": {
      "text/plain": [
       "Make\n",
       "Cessna             22227\n",
       "Piper              12029\n",
       "CESSNA              4922\n",
       "Beech               4330\n",
       "PIPER               2841\n",
       "                   ...  \n",
       "Leonard Walters        1\n",
       "Maule Air Inc.         1\n",
       "Motley Vans            1\n",
       "Perlick                1\n",
       "ROYSE RALPH L          1\n",
       "Name: count, Length: 8237, dtype: int64"
      ]
     },
     "execution_count": 1,
     "metadata": {},
     "output_type": "execute_result"
    }
   ],
   "source": [
    "import pandas as pd\n",
    "\n",
    "df = pd.read_csv(\"Data/Aviation_Data.csv\")\n"
   ]
  },
  {
   "cell_type": "code",
   "execution_count": 55,
   "id": "05e2b8d4",
   "metadata": {},
   "outputs": [],
   "source": [
    "df[\"Make\"]=df[\"Make\"].map(lambda x:str(x))\n",
    "df[\"Make\"]=df[\"Make\"].map(lambda x:x.lower())"
   ]
  },
  {
   "cell_type": "code",
   "execution_count": 76,
   "id": "d4103247",
   "metadata": {},
   "outputs": [
    {
     "data": {
      "text/plain": [
       "Make\n",
       "airbus                            291\n",
       "airbus industrie                  164\n",
       "airbus helicopters                 13\n",
       "airbus helicopters inc              3\n",
       "airbus industries                   1\n",
       "airbus/eurocopter                   1\n",
       "airbus helicopter                   1\n",
       "airbus helicopters (eurocopte       1\n",
       "airbus helicopters deutschland      1\n",
       "Name: count, dtype: int64"
      ]
     },
     "execution_count": 76,
     "metadata": {},
     "output_type": "execute_result"
    }
   ],
   "source": [
    "df[df[\"Make\"].str.contains(\"airbus\")][\"Make\"].value_counts()"
   ]
  },
  {
   "cell_type": "code",
   "execution_count": 74,
   "id": "b590b7bf",
   "metadata": {},
   "outputs": [
    {
     "data": {
      "text/plain": [
       "Make\n",
       "boeing    2833\n",
       "Name: count, dtype: int64"
      ]
     },
     "execution_count": 74,
     "metadata": {},
     "output_type": "execute_result"
    }
   ],
   "source": [
    "df[\"Make\"]=df[\"Make\"].map(lambda x: \"boeing\" if \"boeing\" in x else x)\n",
    "df[\"Make\"][df[\"Make\"].str.contains(\"boeing\")].value_counts()"
   ]
  },
  {
   "cell_type": "code",
   "execution_count": 81,
   "id": "1ac89e12",
   "metadata": {},
   "outputs": [
    {
     "data": {
      "text/plain": [
       "6737     airbus\n",
       "11775    airbus\n",
       "13699    airbus\n",
       "15282    airbus\n",
       "17123    airbus\n",
       "18024    airbus\n",
       "18297    airbus\n",
       "19134    airbus\n",
       "20367    airbus\n",
       "21771    airbus\n",
       "21901    airbus\n",
       "21981    airbus\n",
       "22921    airbus\n",
       "22950    airbus\n",
       "23477    airbus\n",
       "26315    airbus\n",
       "26334    airbus\n",
       "28379    airbus\n",
       "28951    airbus\n",
       "29119    airbus\n",
       "29555    airbus\n",
       "29616    airbus\n",
       "29755    airbus\n",
       "34019    airbus\n",
       "34253    airbus\n",
       "34439    airbus\n",
       "37169    airbus\n",
       "37173    airbus\n",
       "37389    airbus\n",
       "37574    airbus\n",
       "38971    airbus\n",
       "39104    airbus\n",
       "39251    airbus\n",
       "39811    airbus\n",
       "39876    airbus\n",
       "40584    airbus\n",
       "40934    airbus\n",
       "41114    airbus\n",
       "41233    airbus\n",
       "41531    airbus\n",
       "41760    airbus\n",
       "42113    airbus\n",
       "42548    airbus\n",
       "42758    airbus\n",
       "43160    airbus\n",
       "43401    airbus\n",
       "43402    airbus\n",
       "43735    airbus\n",
       "43872    airbus\n",
       "44348    airbus\n",
       "          ...  \n",
       "86883    airbus\n",
       "87004    airbus\n",
       "87088    airbus\n",
       "87122    airbus\n",
       "87194    airbus\n",
       "87202    airbus\n",
       "87352    airbus\n",
       "87375    airbus\n",
       "87501    airbus\n",
       "87672    airbus\n",
       "87736    airbus\n",
       "87791    airbus\n",
       "87840    airbus\n",
       "87954    airbus\n",
       "87997    airbus\n",
       "88028    airbus\n",
       "88032    airbus\n",
       "88205    airbus\n",
       "88254    airbus\n",
       "88286    airbus\n",
       "88523    airbus\n",
       "88598    airbus\n",
       "88603    airbus\n",
       "88618    airbus\n",
       "88692    airbus\n",
       "88711    airbus\n",
       "88993    airbus\n",
       "88994    airbus\n",
       "88998    airbus\n",
       "89184    airbus\n",
       "89213    airbus\n",
       "89223    airbus\n",
       "89257    airbus\n",
       "89291    airbus\n",
       "89299    airbus\n",
       "89383    airbus\n",
       "89493    airbus\n",
       "89504    airbus\n",
       "89529    airbus\n",
       "89662    airbus\n",
       "89735    airbus\n",
       "89922    airbus\n",
       "90019    airbus\n",
       "90166    airbus\n",
       "90191    airbus\n",
       "90205    airbus\n",
       "90256    airbus\n",
       "90259    airbus\n",
       "90326    airbus\n",
       "90338    airbus\n",
       "Name: Make, Length: 476, dtype: object"
      ]
     },
     "execution_count": 81,
     "metadata": {},
     "output_type": "execute_result"
    }
   ],
   "source": [
    "df[\"Make\"]=df[\"Make\"].map(lambda x: \"airbus\" if \"airbus\" in x else x)"
   ]
  },
  {
   "cell_type": "code",
   "execution_count": 82,
   "id": "6a074591",
   "metadata": {},
   "outputs": [
    {
     "data": {
      "text/plain": [
       "Make\n",
       "cessna                            27149\n",
       "piper                             14870\n",
       "beech                              5372\n",
       "boeing                             2833\n",
       "bell                               2722\n",
       "nan                                1522\n",
       "mooney                             1334\n",
       "robinson                           1230\n",
       "grumman                            1172\n",
       "bellanca                           1045\n",
       "hughes                              932\n",
       "schweizer                           773\n",
       "air tractor                         691\n",
       "aeronca                             636\n",
       "mcdonnell douglas                   608\n",
       "maule                               589\n",
       "champion                            519\n",
       "airbus                              476\n",
       "stinson                             439\n",
       "aero commander                      429\n",
       "de havilland                        422\n",
       "luscombe                            414\n",
       "aerospatiale                        388\n",
       "taylorcraft                         383\n",
       "north american                      383\n",
       "rockwell                            355\n",
       "hiller                              348\n",
       "enstrom                             296\n",
       "douglas                             281\n",
       "embraer                             238\n",
       "ayres                               238\n",
       "sikorsky                            233\n",
       "robinson helicopter                 230\n",
       "grumman american                    226\n",
       "cirrus design corp                  223\n",
       "eurocopter                          220\n",
       "air tractor inc                     219\n",
       "robinson helicopter company         194\n",
       "swearingen                          180\n",
       "fairchild                           161\n",
       "ercoupe (eng & research corp.)      160\n",
       "pitts                               154\n",
       "cirrus                              150\n",
       "lake                                150\n",
       "balloon works                       147\n",
       "schleicher                          146\n",
       "mitsubishi                          145\n",
       "waco                                143\n",
       "aviat                               140\n",
       "let                                 136\n",
       "                                  ...  \n",
       "hartline                              1\n",
       "air & space.                          1\n",
       "quest ii walsh ltd.                   1\n",
       "rhea                                  1\n",
       "swertfeger                            1\n",
       "corbin/king                           1\n",
       "oehling                               1\n",
       "statz                                 1\n",
       "knox                                  1\n",
       "streifthau                            1\n",
       "coughlin                              1\n",
       "godbout                               1\n",
       "loral corp.                           1\n",
       "kenneth miller                        1\n",
       "howlett                               1\n",
       "luhnau                                1\n",
       "mintz                                 1\n",
       "eddie a. smith                        1\n",
       "kendall/mckaughlin                    1\n",
       "draper                                1\n",
       "ismari                                1\n",
       "zdybel                                1\n",
       "banting                               1\n",
       "bosick                                1\n",
       "zielke                                1\n",
       "o'hara bob                            1\n",
       "taylor smith                          1\n",
       "prudhomme                             1\n",
       "walden a. cooper                      1\n",
       "aero design eleven                    1\n",
       "muxlow                                1\n",
       "owens/richburg                        1\n",
       "pagan                                 1\n",
       "birx                                  1\n",
       "bair helicopters, inc.                1\n",
       "scovil                                1\n",
       "mckinnis                              1\n",
       "aeronca-bubeck irving                 1\n",
       "trike                                 1\n",
       "aero comp inc                         1\n",
       "burak stanley a                       1\n",
       "cohen                                 1\n",
       "kitchens                              1\n",
       "lutes                                 1\n",
       "izatt                                 1\n",
       "mince                                 1\n",
       "dana a. moore                         1\n",
       "slater                                1\n",
       "eaa chapter 229                       1\n",
       "royse ralph l                         1\n",
       "Name: count, Length: 7566, dtype: int64"
      ]
     },
     "execution_count": 82,
     "metadata": {},
     "output_type": "execute_result"
    }
   ],
   "source": [
    "df[\"Make\"].value_counts()"
   ]
  },
  {
   "cell_type": "code",
   "execution_count": 98,
   "id": "8a8f1e1a",
   "metadata": {},
   "outputs": [],
   "source": [
    "df[\"Make\"]=df[\"Make\"].map(lambda x: \"britten-norman\" if \"britten\" in x else x)"
   ]
  },
  {
   "cell_type": "code",
   "execution_count": 100,
   "id": "8a55c044",
   "metadata": {},
   "outputs": [
    {
     "data": {
      "text/plain": [
       "Make\n",
       "dornier              32\n",
       "fairchild dornier     3\n",
       "dornier gmbh          2\n",
       "Name: count, dtype: int64"
      ]
     },
     "execution_count": 100,
     "metadata": {},
     "output_type": "execute_result"
    }
   ],
   "source": [
    "df[df[\"Make\"].str.contains(\"dornier\")][\"Make\"].value_counts()"
   ]
  },
  {
   "cell_type": "code",
   "execution_count": 41,
   "id": "9408c1e0",
   "metadata": {},
   "outputs": [],
   "source": [
    "pd.set_option(\"display.min_rows\", 1000)"
   ]
  },
  {
   "cell_type": "code",
   "execution_count": 50,
   "id": "fa09908b",
   "metadata": {},
   "outputs": [],
   "source": [
    "df[\"Make\"].value_counts().to_csv(\"test.csv\")"
   ]
  }
 ],
 "metadata": {
  "kernelspec": {
   "display_name": "Python (learn-env)",
   "language": "python",
   "name": "learn-env"
  },
  "language_info": {
   "codemirror_mode": {
    "name": "ipython",
    "version": 3
   },
   "file_extension": ".py",
   "mimetype": "text/x-python",
   "name": "python",
   "nbconvert_exporter": "python",
   "pygments_lexer": "ipython3",
   "version": "3.9.16"
  }
 },
 "nbformat": 4,
 "nbformat_minor": 5
}
