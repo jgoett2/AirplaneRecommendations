{
  "cells": [
    {
      "cell_type": "markdown",
      "id": "049cf084",
      "metadata": {
        "id": "049cf084"
      },
      "source": [
        "# NTSB Aviation Accident Database Analysis"
      ]
    },
    {
      "cell_type": "markdown",
      "id": "ceb690bd",
      "metadata": {
        "id": "ceb690bd"
      },
      "source": [
        "The following analysis looks at the NTSB Accident Database (linked here) and looks at accidents as a function of various database features, with the intention of identifying airplanes with a strong safety record that would be good to purchase for leasing purposes.\n",
        "\n",
        "The features this analysis will focus on are:\n",
        "*   Date of Accident\n",
        "*   Airplane Make\n",
        "*   Airplane Model\n",
        "*   Aircraft Damage\n",
        "*   Total Injuries\n",
        "*   Total Fatalities\n",
        "*   Phase of flight\n",
        "\n"
      ]
    },
    {
      "cell_type": "markdown",
      "id": "a62eb587",
      "metadata": {
        "id": "a62eb587"
      },
      "source": [
        "## Data Cleaning"
      ]
    },
    {
      "cell_type": "markdown",
      "source": [
        "This particular analysis will look at the following features of the accident report.  \n",
        "\n",
        "To begin, we will readin the data and clean up each of these features`"
      ],
      "metadata": {
        "id": "EYx_JPpHQCQm"
      },
      "id": "EYx_JPpHQCQm"
    },
    {
      "cell_type": "markdown",
      "source": [
        "### Import the Data"
      ],
      "metadata": {
        "id": "yHqQ13I9QYoo"
      },
      "id": "yHqQ13I9QYoo"
    },
    {
      "cell_type": "code",
      "execution_count": 1,
      "id": "7ddf27b4",
      "metadata": {
        "id": "7ddf27b4"
      },
      "outputs": [],
      "source": [
        "import pandas as pd\n",
        "import numpy as np\n",
        "import matplotlib.pyplot as plt"
      ]
    },
    {
      "cell_type": "code",
      "execution_count": 2,
      "id": "5a61ab7c",
      "metadata": {
        "id": "5a61ab7c",
        "outputId": "3c3b2735-78f4-4b27-c70c-6184b717b5bc",
        "colab": {
          "base_uri": "https://localhost:8080/"
        }
      },
      "outputs": [
        {
          "output_type": "stream",
          "name": "stderr",
          "text": [
            "<ipython-input-2-eb510d19be85>:2: DtypeWarning: Columns (6,7,28) have mixed types. Specify dtype option on import or set low_memory=False.\n",
            "  df = pd.read_csv(\"https://raw.githubusercontent.com/jgoett2/AirplaneRecommendations/main/Data/Aviation_Data.csv\")\n"
          ]
        }
      ],
      "source": [
        "#df = pd.read_csv(\"Data/Aviation_Data.csv\")\n",
        "df = pd.read_csv(\"https://raw.githubusercontent.com/jgoett2/AirplaneRecommendations/main/Data/Aviation_Data.csv\")"
      ]
    },
    {
      "cell_type": "code",
      "source": [
        "df.groupby([\"Make\",\"Model\"]).count().to_csv(\"Make.csv\")"
      ],
      "metadata": {
        "id": "AwaAjgDwoKUs"
      },
      "id": "AwaAjgDwoKUs",
      "execution_count": 3,
      "outputs": []
    },
    {
      "cell_type": "code",
      "source": [
        "df[\"Model\"]=df[\"Model\"].map(lambda x:str(x))"
      ],
      "metadata": {
        "id": "Xbe3XhEY26TG"
      },
      "id": "Xbe3XhEY26TG",
      "execution_count": 4,
      "outputs": []
    },
    {
      "cell_type": "markdown",
      "id": "de2bc8c7",
      "metadata": {
        "id": "de2bc8c7"
      },
      "source": [
        "### Date of Accident"
      ]
    },
    {
      "cell_type": "markdown",
      "source": [
        "Convert the string representation of Event.Date to a Pandas date-time object and store in same column.  Store the year in a new column \"Year.\""
      ],
      "metadata": {
        "id": "6HQrq4RGQoft"
      },
      "id": "6HQrq4RGQoft"
    },
    {
      "cell_type": "code",
      "execution_count": 5,
      "id": "a8084725",
      "metadata": {
        "id": "a8084725"
      },
      "outputs": [],
      "source": [
        "df[\"Event.Date\"]=pd.to_datetime(df[\"Event.Date\"], format=\"%Y-%m-%d\")\n",
        "\n",
        "df[\"Year\"] = df[\"Event.Date\"].dt.year"
      ]
    },
    {
      "cell_type": "markdown",
      "id": "cf35791e",
      "metadata": {
        "id": "cf35791e"
      },
      "source": [
        "### Normalizing Make and Model"
      ]
    },
    {
      "cell_type": "markdown",
      "source": [
        "This analysis will concentrate on airplane models that are currently in production.  The dataframe models_of_interest holds data about these models.  \n",
        "The database Make and Model values are updated to use consistent naming."
      ],
      "metadata": {
        "id": "zVNrYBdnQ04s"
      },
      "id": "zVNrYBdnQ04s"
    },
    {
      "cell_type": "code",
      "source": [
        "models_of_interest = pd.read_csv(\"https://raw.githubusercontent.com/jgoett2/AirplaneRecommendations/main/Data/ModelsOfInterest.csv\")\n",
        "models_of_interest[\"Model\"]=models_of_interest[\"Model\"].map(lambda x:str(x))"
      ],
      "metadata": {
        "id": "z753bo40wTBc"
      },
      "id": "z753bo40wTBc",
      "execution_count": 6,
      "outputs": []
    },
    {
      "cell_type": "markdown",
      "source": [
        "Update the make and model columns in the dataframe to use the standardized names above."
      ],
      "metadata": {
        "id": "-XPOQ2bkXLEU"
      },
      "id": "-XPOQ2bkXLEU"
    },
    {
      "cell_type": "code",
      "execution_count": 7,
      "id": "d4aeb28e",
      "metadata": {
        "id": "d4aeb28e",
        "outputId": "a404a184-b0fb-4e1e-f6f8-0988a57a4199",
        "colab": {
          "base_uri": "https://localhost:8080/"
        }
      },
      "outputs": [
        {
          "output_type": "execute_result",
          "data": {
            "text/plain": [
              "array(['Boeing', 'Airbus', 'Cessna', 'Piper', 'Embraer'], dtype=object)"
            ]
          },
          "metadata": {},
          "execution_count": 7
        }
      ],
      "source": [
        "def normalize(name, normalized_names):\n",
        "    for x in normalized_names:\n",
        "        if x.lower() in str(name).lower():\n",
        "            return x\n",
        "    return name\n",
        "\n",
        "df[\"Make\"]=df[\"Make\"].map(lambda x:str(x))\n",
        "df[\"Model\"]=df[\"Model\"].map(lambda x:str(x))\n",
        "\n",
        "df[\"Make\"]=df[\"Make\"].map(lambda x:normalize(x,models_of_interest[\"Make\"].unique()))\n",
        "df[\"Model\"]=df[\"Model\"].map(lambda x:normalize(x,models_of_interest[\"Model\"].unique()))\n",
        "\n",
        "models_of_interest[\"Make\"].unique()\n"
      ]
    },
    {
      "cell_type": "markdown",
      "source": [
        "Add type of aircraft to dataframe"
      ],
      "metadata": {
        "id": "rFFrs5GJcwd1"
      },
      "id": "rFFrs5GJcwd1"
    },
    {
      "cell_type": "markdown",
      "source": [
        "### Injury and Fatality Records"
      ],
      "metadata": {
        "id": "xJRATMRDlriX"
      },
      "id": "xJRATMRDlriX"
    },
    {
      "cell_type": "markdown",
      "source": [
        "Set blank records to a value of 0"
      ],
      "metadata": {
        "id": "NYZSdfOYlxgK"
      },
      "id": "NYZSdfOYlxgK"
    },
    {
      "cell_type": "code",
      "source": [
        "df.loc[df[\"Total.Serious.Injuries\"].isna(),\"Total.Serious.Injuries\"]=0\n",
        "df.loc[df[\"Total.Fatal.Injuries\"].isna(),\"Total.Fatal.Injuries\"]=0"
      ],
      "metadata": {
        "id": "-6djrCGgl3nj"
      },
      "id": "-6djrCGgl3nj",
      "execution_count": 8,
      "outputs": []
    },
    {
      "cell_type": "markdown",
      "source": [
        "### Removing Extraneous Records"
      ],
      "metadata": {
        "id": "gd9sitw4YLFy"
      },
      "id": "gd9sitw4YLFy"
    },
    {
      "cell_type": "markdown",
      "id": "3c0926f8",
      "metadata": {
        "id": "3c0926f8"
      },
      "source": [
        "Airplane Makes and Models that are not of interest are removed from the data set."
      ]
    },
    {
      "cell_type": "code",
      "execution_count": 9,
      "id": "4589060a",
      "metadata": {
        "id": "4589060a"
      },
      "outputs": [],
      "source": [
        "filter = df[\"Make\"].map(lambda x:x in models_of_interest[\"Make\"].unique())\n",
        "df = df[filter]\n",
        "\n",
        "filter = df[\"Model\"].map(lambda x:x in models_of_interest[\"Model\"].unique())\n",
        "df = df[filter]"
      ]
    },
    {
      "cell_type": "markdown",
      "source": [
        "Add aircraft type to dataframe."
      ],
      "metadata": {
        "id": "52qn8gW7h7oj"
      },
      "id": "52qn8gW7h7oj"
    },
    {
      "cell_type": "code",
      "source": [
        "models_of_interest = models_of_interest.set_index([\"Make\",\"Model\"])"
      ],
      "metadata": {
        "id": "iGZUZ6vyh68B"
      },
      "id": "iGZUZ6vyh68B",
      "execution_count": 10,
      "outputs": []
    },
    {
      "cell_type": "code",
      "source": [
        "df[\"Airplane.Type\"]=df.apply(lambda x: models_of_interest.loc[(x[\"Make\"],x[\"Model\"])][\"Type\"], axis=1)"
      ],
      "metadata": {
        "id": "DnzrOCt0iHEF"
      },
      "id": "DnzrOCt0iHEF",
      "execution_count": 11,
      "outputs": []
    },
    {
      "cell_type": "code",
      "source": [
        "models_of_interest=models_of_interest.reset_index()"
      ],
      "metadata": {
        "id": "UjAWruxIiQiO"
      },
      "id": "UjAWruxIiQiO",
      "execution_count": 12,
      "outputs": []
    },
    {
      "cell_type": "code",
      "source": [
        "features_of_interest=[\"Event.Date\",\"Year\",\"Make\",\"Model\",\"Airplane.Type\",\"Aircraft.damage\",\"Total.Fatal.Injuries\",\n",
        "                      \"Total.Serious.Injuries\",\"Broad.phase.of.flight\"]"
      ],
      "metadata": {
        "id": "FxnYQHHPZpKr"
      },
      "id": "FxnYQHHPZpKr",
      "execution_count": 13,
      "outputs": []
    },
    {
      "cell_type": "code",
      "source": [
        "df=df[features_of_interest]"
      ],
      "metadata": {
        "id": "_bZW8-hPZcD1"
      },
      "id": "_bZW8-hPZcD1",
      "execution_count": 14,
      "outputs": []
    },
    {
      "cell_type": "code",
      "source": [
        "df.to_csv(\"Airplane_data_clean.csv\")"
      ],
      "metadata": {
        "id": "whIdE5W3hIDB"
      },
      "id": "whIdE5W3hIDB",
      "execution_count": 15,
      "outputs": []
    },
    {
      "cell_type": "markdown",
      "id": "b288b1a8",
      "metadata": {
        "id": "b288b1a8"
      },
      "source": [
        "## Data Analysis\n",
        "An analysis then looks at the number of incidents vs. airplane Make and Model."
      ]
    },
    {
      "cell_type": "markdown",
      "source": [
        "### Accidents vs. Time"
      ],
      "metadata": {
        "id": "1Q-RFFeWTYR5"
      },
      "id": "1Q-RFFeWTYR5"
    },
    {
      "cell_type": "code",
      "source": [
        "count, years = np.histogram(df[df[\"Year\"].isna()==False][\"Year\"],bins=range(1982,2024,1))\n",
        "pd.DataFrame(count,index=years[0:41]).plot.bar()"
      ],
      "metadata": {
        "id": "IgRVIvwXT4FT",
        "colab": {
          "base_uri": "https://localhost:8080/",
          "height": 468
        },
        "outputId": "ee0faef8-3b11-41a5-a947-3bb63d76f6bc"
      },
      "id": "IgRVIvwXT4FT",
      "execution_count": 16,
      "outputs": [
        {
          "output_type": "execute_result",
          "data": {
            "text/plain": [
              "<Axes: >"
            ]
          },
          "metadata": {},
          "execution_count": 16
        },
        {
          "output_type": "display_data",
          "data": {
            "text/plain": [
              "<Figure size 640x480 with 1 Axes>"
            ],
            "image/png": "[encoded data removed]"
          },
          "metadata": {}
        }
      ]
    },
    {
      "cell_type": "markdown",
      "source": [
        "### Injuries by Model"
      ],
      "metadata": {
        "id": "MrkmoOOlTUAd"
      },
      "id": "MrkmoOOlTUAd"
    },
    {
      "cell_type": "code",
      "source": [
        "for col in [\"Total.Serious.Injuries\",\"Total.Fatal.Injuries\"]:\n",
        "    df[col]=df[col].map(lambda x:0 if np.isnan(x) else int(x))\n",
        "\n",
        "incidents = df.groupby([\"Make\",\"Model\"]).count()[\"Total.Serious.Injuries\"]\n",
        "incidents_injuries=df[df[\"Total.Serious.Injuries\"]>0].groupby([\"Make\",\"Model\"]).count()[\"Total.Serious.Injuries\"]\n",
        "\n",
        "incidents_fatal=df[df[\"Total.Fatal.Injuries\"]>0].groupby([\"Make\",\"Model\"]).count()[\"Total.Fatal.Injuries\"]\n",
        "injury_total=df.groupby([\"Make\",\"Model\"]).sum()[[\"Total.Serious.Injuries\",\"Total.Fatal.Injuries\"]]\n"
      ],
      "metadata": {
        "id": "vU6PYEQhYnh2",
        "colab": {
          "base_uri": "https://localhost:8080/",
          "height": 384
        },
        "outputId": "71c50f8c-fcb1-4ce7-a776-457429690655"
      },
      "id": "vU6PYEQhYnh2",
      "execution_count": 17,
      "outputs": [
        {
          "output_type": "error",
          "ename": "TypeError",
          "evalue": "datetime64 type does not support sum operations",
          "traceback": [
            "\u001b[0;31m---------------------------------------------------------------------------\u001b[0m",
            "\u001b[0;31mTypeError\u001b[0m                                 Traceback (most recent call last)",
            "\u001b[0;32m<ipython-input-17-cbfa9fa5891f>\u001b[0m in \u001b[0;36m<cell line: 8>\u001b[0;34m()\u001b[0m\n\u001b[1;32m      6\u001b[0m \u001b[0;34m\u001b[0m\u001b[0m\n\u001b[1;32m      7\u001b[0m \u001b[0mincidents_fatal\u001b[0m\u001b[0;34m=\u001b[0m\u001b[0mdf\u001b[0m\u001b[0;34m[\u001b[0m\u001b[0mdf\u001b[0m\u001b[0;34m[\u001b[0m\u001b[0;34m\"Total.Fatal.Injuries\"\u001b[0m\u001b[0;34m]\u001b[0m\u001b[0;34m>\u001b[0m\u001b[0;36m0\u001b[0m\u001b[0;34m]\u001b[0m\u001b[0;34m.\u001b[0m\u001b[0mgroupby\u001b[0m\u001b[0;34m(\u001b[0m\u001b[0;34m[\u001b[0m\u001b[0;34m\"Make\"\u001b[0m\u001b[0;34m,\u001b[0m\u001b[0;34m\"Model\"\u001b[0m\u001b[0;34m]\u001b[0m\u001b[0;34m)\u001b[0m\u001b[0;34m.\u001b[0m\u001b[0mcount\u001b[0m\u001b[0;34m(\u001b[0m\u001b[0;34m)\u001b[0m\u001b[0;34m[\u001b[0m\u001b[0;34m\"Total.Fatal.Injuries\"\u001b[0m\u001b[0;34m]\u001b[0m\u001b[0;34m\u001b[0m\u001b[0;34m\u001b[0m\u001b[0m\n\u001b[0;32m----> 8\u001b[0;31m \u001b[0minjury_total\u001b[0m\u001b[0;34m=\u001b[0m\u001b[0mdf\u001b[0m\u001b[0;34m.\u001b[0m\u001b[0mgroupby\u001b[0m\u001b[0;34m(\u001b[0m\u001b[0;34m[\u001b[0m\u001b[0;34m\"Make\"\u001b[0m\u001b[0;34m,\u001b[0m\u001b[0;34m\"Model\"\u001b[0m\u001b[0;34m]\u001b[0m\u001b[0;34m)\u001b[0m\u001b[0;34m.\u001b[0m\u001b[0msum\u001b[0m\u001b[0;34m(\u001b[0m\u001b[0;34m)\u001b[0m\u001b[0;34m[\u001b[0m\u001b[0;34m[\u001b[0m\u001b[0;34m\"Total.Serious.Injuries\"\u001b[0m\u001b[0;34m,\u001b[0m\u001b[0;34m\"Total.Fatal.Injuries\"\u001b[0m\u001b[0;34m]\u001b[0m\u001b[0;34m]\u001b[0m\u001b[0;34m\u001b[0m\u001b[0;34m\u001b[0m\u001b[0m\n\u001b[0m",
            "\u001b[0;32m/usr/local/lib/python3.10/dist-packages/pandas/core/groupby/groupby.py\u001b[0m in \u001b[0;36msum\u001b[0;34m(self, numeric_only, min_count, engine, engine_kwargs)\u001b[0m\n\u001b[1;32m   2261\u001b[0m             \u001b[0;31m# _agg_general() returns. GH #31422\u001b[0m\u001b[0;34m\u001b[0m\u001b[0;34m\u001b[0m\u001b[0m\n\u001b[1;32m   2262\u001b[0m             \u001b[0;32mwith\u001b[0m \u001b[0mcom\u001b[0m\u001b[0;34m.\u001b[0m\u001b[0mtemp_setattr\u001b[0m\u001b[0;34m(\u001b[0m\u001b[0mself\u001b[0m\u001b[0;34m,\u001b[0m \u001b[0;34m\"observed\"\u001b[0m\u001b[0;34m,\u001b[0m \u001b[0;32mTrue\u001b[0m\u001b[0;34m)\u001b[0m\u001b[0;34m:\u001b[0m\u001b[0;34m\u001b[0m\u001b[0;34m\u001b[0m\u001b[0m\n\u001b[0;32m-> 2263\u001b[0;31m                 result = self._agg_general(\n\u001b[0m\u001b[1;32m   2264\u001b[0m                     \u001b[0mnumeric_only\u001b[0m\u001b[0;34m=\u001b[0m\u001b[0mnumeric_only\u001b[0m\u001b[0;34m,\u001b[0m\u001b[0;34m\u001b[0m\u001b[0;34m\u001b[0m\u001b[0m\n\u001b[1;32m   2265\u001b[0m                     \u001b[0mmin_count\u001b[0m\u001b[0;34m=\u001b[0m\u001b[0mmin_count\u001b[0m\u001b[0;34m,\u001b[0m\u001b[0;34m\u001b[0m\u001b[0;34m\u001b[0m\u001b[0m\n",
            "\u001b[0;32m/usr/local/lib/python3.10/dist-packages/pandas/core/groupby/groupby.py\u001b[0m in \u001b[0;36m_agg_general\u001b[0;34m(self, numeric_only, min_count, alias, npfunc)\u001b[0m\n\u001b[1;32m   1420\u001b[0m         \u001b[0mnpfunc\u001b[0m\u001b[0;34m:\u001b[0m \u001b[0mCallable\u001b[0m\u001b[0;34m,\u001b[0m\u001b[0;34m\u001b[0m\u001b[0;34m\u001b[0m\u001b[0m\n\u001b[1;32m   1421\u001b[0m     ):\n\u001b[0;32m-> 1422\u001b[0;31m         result = self._cython_agg_general(\n\u001b[0m\u001b[1;32m   1423\u001b[0m             \u001b[0mhow\u001b[0m\u001b[0;34m=\u001b[0m\u001b[0malias\u001b[0m\u001b[0;34m,\u001b[0m\u001b[0;34m\u001b[0m\u001b[0;34m\u001b[0m\u001b[0m\n\u001b[1;32m   1424\u001b[0m             \u001b[0malt\u001b[0m\u001b[0;34m=\u001b[0m\u001b[0mnpfunc\u001b[0m\u001b[0;34m,\u001b[0m\u001b[0;34m\u001b[0m\u001b[0;34m\u001b[0m\u001b[0m\n",
            "\u001b[0;32m/usr/local/lib/python3.10/dist-packages/pandas/core/groupby/groupby.py\u001b[0m in \u001b[0;36m_cython_agg_general\u001b[0;34m(self, how, alt, numeric_only, min_count, **kwargs)\u001b[0m\n\u001b[1;32m   1505\u001b[0m             \u001b[0;32mreturn\u001b[0m \u001b[0mresult\u001b[0m\u001b[0;34m\u001b[0m\u001b[0;34m\u001b[0m\u001b[0m\n\u001b[1;32m   1506\u001b[0m \u001b[0;34m\u001b[0m\u001b[0m\n\u001b[0;32m-> 1507\u001b[0;31m         \u001b[0mnew_mgr\u001b[0m \u001b[0;34m=\u001b[0m \u001b[0mdata\u001b[0m\u001b[0;34m.\u001b[0m\u001b[0mgrouped_reduce\u001b[0m\u001b[0;34m(\u001b[0m\u001b[0marray_func\u001b[0m\u001b[0;34m)\u001b[0m\u001b[0;34m\u001b[0m\u001b[0;34m\u001b[0m\u001b[0m\n\u001b[0m\u001b[1;32m   1508\u001b[0m         \u001b[0mres\u001b[0m \u001b[0;34m=\u001b[0m \u001b[0mself\u001b[0m\u001b[0;34m.\u001b[0m\u001b[0m_wrap_agged_manager\u001b[0m\u001b[0;34m(\u001b[0m\u001b[0mnew_mgr\u001b[0m\u001b[0;34m)\u001b[0m\u001b[0;34m\u001b[0m\u001b[0;34m\u001b[0m\u001b[0m\n\u001b[1;32m   1509\u001b[0m         \u001b[0mout\u001b[0m \u001b[0;34m=\u001b[0m \u001b[0mself\u001b[0m\u001b[0;34m.\u001b[0m\u001b[0m_wrap_aggregated_output\u001b[0m\u001b[0;34m(\u001b[0m\u001b[0mres\u001b[0m\u001b[0;34m)\u001b[0m\u001b[0;34m\u001b[0m\u001b[0;34m\u001b[0m\u001b[0m\n",
            "\u001b[0;32m/usr/local/lib/python3.10/dist-packages/pandas/core/internals/managers.py\u001b[0m in \u001b[0;36mgrouped_reduce\u001b[0;34m(self, func)\u001b[0m\n\u001b[1;32m   1504\u001b[0m                     \u001b[0mresult_blocks\u001b[0m \u001b[0;34m=\u001b[0m \u001b[0mextend_blocks\u001b[0m\u001b[0;34m(\u001b[0m\u001b[0mapplied\u001b[0m\u001b[0;34m,\u001b[0m \u001b[0mresult_blocks\u001b[0m\u001b[0;34m)\u001b[0m\u001b[0;34m\u001b[0m\u001b[0;34m\u001b[0m\u001b[0m\n\u001b[1;32m   1505\u001b[0m             \u001b[0;32melse\u001b[0m\u001b[0;34m:\u001b[0m\u001b[0;34m\u001b[0m\u001b[0;34m\u001b[0m\u001b[0m\n\u001b[0;32m-> 1506\u001b[0;31m                 \u001b[0mapplied\u001b[0m \u001b[0;34m=\u001b[0m \u001b[0mblk\u001b[0m\u001b[0;34m.\u001b[0m\u001b[0mapply\u001b[0m\u001b[0;34m(\u001b[0m\u001b[0mfunc\u001b[0m\u001b[0;34m)\u001b[0m\u001b[0;34m\u001b[0m\u001b[0;34m\u001b[0m\u001b[0m\n\u001b[0m\u001b[1;32m   1507\u001b[0m                 \u001b[0mresult_blocks\u001b[0m \u001b[0;34m=\u001b[0m \u001b[0mextend_blocks\u001b[0m\u001b[0;34m(\u001b[0m\u001b[0mapplied\u001b[0m\u001b[0;34m,\u001b[0m \u001b[0mresult_blocks\u001b[0m\u001b[0;34m)\u001b[0m\u001b[0;34m\u001b[0m\u001b[0;34m\u001b[0m\u001b[0m\n\u001b[1;32m   1508\u001b[0m \u001b[0;34m\u001b[0m\u001b[0m\n",
            "\u001b[0;32m/usr/local/lib/python3.10/dist-packages/pandas/core/internals/blocks.py\u001b[0m in \u001b[0;36mapply\u001b[0;34m(self, func, **kwargs)\u001b[0m\n\u001b[1;32m    327\u001b[0m         \u001b[0mone\u001b[0m\u001b[0;34m\u001b[0m\u001b[0;34m\u001b[0m\u001b[0m\n\u001b[1;32m    328\u001b[0m         \"\"\"\n\u001b[0;32m--> 329\u001b[0;31m         \u001b[0mresult\u001b[0m \u001b[0;34m=\u001b[0m \u001b[0mfunc\u001b[0m\u001b[0;34m(\u001b[0m\u001b[0mself\u001b[0m\u001b[0;34m.\u001b[0m\u001b[0mvalues\u001b[0m\u001b[0;34m,\u001b[0m \u001b[0;34m**\u001b[0m\u001b[0mkwargs\u001b[0m\u001b[0;34m)\u001b[0m\u001b[0;34m\u001b[0m\u001b[0;34m\u001b[0m\u001b[0m\n\u001b[0m\u001b[1;32m    330\u001b[0m \u001b[0;34m\u001b[0m\u001b[0m\n\u001b[1;32m    331\u001b[0m         \u001b[0;32mreturn\u001b[0m \u001b[0mself\u001b[0m\u001b[0;34m.\u001b[0m\u001b[0m_split_op_result\u001b[0m\u001b[0;34m(\u001b[0m\u001b[0mresult\u001b[0m\u001b[0;34m)\u001b[0m\u001b[0;34m\u001b[0m\u001b[0;34m\u001b[0m\u001b[0m\n",
            "\u001b[0;32m/usr/local/lib/python3.10/dist-packages/pandas/core/groupby/groupby.py\u001b[0m in \u001b[0;36marray_func\u001b[0;34m(values)\u001b[0m\n\u001b[1;32m   1488\u001b[0m         \u001b[0;32mdef\u001b[0m \u001b[0marray_func\u001b[0m\u001b[0;34m(\u001b[0m\u001b[0mvalues\u001b[0m\u001b[0;34m:\u001b[0m \u001b[0mArrayLike\u001b[0m\u001b[0;34m)\u001b[0m \u001b[0;34m->\u001b[0m \u001b[0mArrayLike\u001b[0m\u001b[0;34m:\u001b[0m\u001b[0;34m\u001b[0m\u001b[0;34m\u001b[0m\u001b[0m\n\u001b[1;32m   1489\u001b[0m             \u001b[0;32mtry\u001b[0m\u001b[0;34m:\u001b[0m\u001b[0;34m\u001b[0m\u001b[0;34m\u001b[0m\u001b[0m\n\u001b[0;32m-> 1490\u001b[0;31m                 result = self.grouper._cython_operation(\n\u001b[0m\u001b[1;32m   1491\u001b[0m                     \u001b[0;34m\"aggregate\"\u001b[0m\u001b[0;34m,\u001b[0m\u001b[0;34m\u001b[0m\u001b[0;34m\u001b[0m\u001b[0m\n\u001b[1;32m   1492\u001b[0m                     \u001b[0mvalues\u001b[0m\u001b[0;34m,\u001b[0m\u001b[0;34m\u001b[0m\u001b[0;34m\u001b[0m\u001b[0m\n",
            "\u001b[0;32m/usr/local/lib/python3.10/dist-packages/pandas/core/groupby/ops.py\u001b[0m in \u001b[0;36m_cython_operation\u001b[0;34m(self, kind, values, how, axis, min_count, **kwargs)\u001b[0m\n\u001b[1;32m    957\u001b[0m         \u001b[0mids\u001b[0m\u001b[0;34m,\u001b[0m \u001b[0m_\u001b[0m\u001b[0;34m,\u001b[0m \u001b[0m_\u001b[0m \u001b[0;34m=\u001b[0m \u001b[0mself\u001b[0m\u001b[0;34m.\u001b[0m\u001b[0mgroup_info\u001b[0m\u001b[0;34m\u001b[0m\u001b[0;34m\u001b[0m\u001b[0m\n\u001b[1;32m    958\u001b[0m         \u001b[0mngroups\u001b[0m \u001b[0;34m=\u001b[0m \u001b[0mself\u001b[0m\u001b[0;34m.\u001b[0m\u001b[0mngroups\u001b[0m\u001b[0;34m\u001b[0m\u001b[0;34m\u001b[0m\u001b[0m\n\u001b[0;32m--> 959\u001b[0;31m         return cy_op.cython_operation(\n\u001b[0m\u001b[1;32m    960\u001b[0m             \u001b[0mvalues\u001b[0m\u001b[0;34m=\u001b[0m\u001b[0mvalues\u001b[0m\u001b[0;34m,\u001b[0m\u001b[0;34m\u001b[0m\u001b[0;34m\u001b[0m\u001b[0m\n\u001b[1;32m    961\u001b[0m             \u001b[0maxis\u001b[0m\u001b[0;34m=\u001b[0m\u001b[0maxis\u001b[0m\u001b[0;34m,\u001b[0m\u001b[0;34m\u001b[0m\u001b[0;34m\u001b[0m\u001b[0m\n",
            "\u001b[0;32m/usr/local/lib/python3.10/dist-packages/pandas/core/groupby/ops.py\u001b[0m in \u001b[0;36mcython_operation\u001b[0;34m(self, values, axis, min_count, comp_ids, ngroups, **kwargs)\u001b[0m\n\u001b[1;32m    643\u001b[0m         \u001b[0;31m# can we do this operation with our cython functions\u001b[0m\u001b[0;34m\u001b[0m\u001b[0;34m\u001b[0m\u001b[0m\n\u001b[1;32m    644\u001b[0m         \u001b[0;31m# if not raise NotImplementedError\u001b[0m\u001b[0;34m\u001b[0m\u001b[0;34m\u001b[0m\u001b[0m\n\u001b[0;32m--> 645\u001b[0;31m         \u001b[0mself\u001b[0m\u001b[0;34m.\u001b[0m\u001b[0m_disallow_invalid_ops\u001b[0m\u001b[0;34m(\u001b[0m\u001b[0mdtype\u001b[0m\u001b[0;34m,\u001b[0m \u001b[0mis_numeric\u001b[0m\u001b[0;34m)\u001b[0m\u001b[0;34m\u001b[0m\u001b[0;34m\u001b[0m\u001b[0m\n\u001b[0m\u001b[1;32m    646\u001b[0m \u001b[0;34m\u001b[0m\u001b[0m\n\u001b[1;32m    647\u001b[0m         \u001b[0;32mif\u001b[0m \u001b[0;32mnot\u001b[0m \u001b[0misinstance\u001b[0m\u001b[0;34m(\u001b[0m\u001b[0mvalues\u001b[0m\u001b[0;34m,\u001b[0m \u001b[0mnp\u001b[0m\u001b[0;34m.\u001b[0m\u001b[0mndarray\u001b[0m\u001b[0;34m)\u001b[0m\u001b[0;34m:\u001b[0m\u001b[0;34m\u001b[0m\u001b[0;34m\u001b[0m\u001b[0m\n",
            "\u001b[0;32m/usr/local/lib/python3.10/dist-packages/pandas/core/groupby/ops.py\u001b[0m in \u001b[0;36m_disallow_invalid_ops\u001b[0;34m(self, dtype, is_numeric)\u001b[0m\n\u001b[1;32m    255\u001b[0m             \u001b[0;31m# Adding/multiplying datetimes is not valid\u001b[0m\u001b[0;34m\u001b[0m\u001b[0;34m\u001b[0m\u001b[0m\n\u001b[1;32m    256\u001b[0m             \u001b[0;32mif\u001b[0m \u001b[0mhow\u001b[0m \u001b[0;32min\u001b[0m \u001b[0;34m[\u001b[0m\u001b[0;34m\"sum\"\u001b[0m\u001b[0;34m,\u001b[0m \u001b[0;34m\"prod\"\u001b[0m\u001b[0;34m,\u001b[0m \u001b[0;34m\"cumsum\"\u001b[0m\u001b[0;34m,\u001b[0m \u001b[0;34m\"cumprod\"\u001b[0m\u001b[0;34m]\u001b[0m\u001b[0;34m:\u001b[0m\u001b[0;34m\u001b[0m\u001b[0;34m\u001b[0m\u001b[0m\n\u001b[0;32m--> 257\u001b[0;31m                 \u001b[0;32mraise\u001b[0m \u001b[0mTypeError\u001b[0m\u001b[0;34m(\u001b[0m\u001b[0;34mf\"datetime64 type does not support {how} operations\"\u001b[0m\u001b[0;34m)\u001b[0m\u001b[0;34m\u001b[0m\u001b[0;34m\u001b[0m\u001b[0m\n\u001b[0m\u001b[1;32m    258\u001b[0m         \u001b[0;32melif\u001b[0m \u001b[0mis_period_dtype\u001b[0m\u001b[0;34m(\u001b[0m\u001b[0mdtype\u001b[0m\u001b[0;34m)\u001b[0m\u001b[0;34m:\u001b[0m\u001b[0;34m\u001b[0m\u001b[0;34m\u001b[0m\u001b[0m\n\u001b[1;32m    259\u001b[0m             \u001b[0;31m# Adding/multiplying Periods is not valid\u001b[0m\u001b[0;34m\u001b[0m\u001b[0;34m\u001b[0m\u001b[0m\n",
            "\u001b[0;31mTypeError\u001b[0m: datetime64 type does not support sum operations"
          ]
        }
      ]
    },
    {
      "cell_type": "code",
      "execution_count": null,
      "id": "4f6f63f3",
      "metadata": {
        "id": "4f6f63f3"
      },
      "outputs": [],
      "source": [
        "modelCompare=pd.concat([incidents,incidents_injuries,incidents_fatal,injury_total],axis=1)\n",
        "modelCompare.columns=[\"Incidents-Any\",\"Incidents-Injuries\",\"Incidents-Fatalities\",\"Total Injuries\",\"Total Fatalities\"]\n",
        "\n",
        "for col in modelCompare.columns:\n",
        "    modelCompare[col]=modelCompare[col].map(lambda x: 0 if np.isnan(x) else int(x))\n",
        "\n",
        "\n",
        "produced = models_of_interest.set_index([\"Make\",\"Model\"])\n",
        "modelCompare = modelCompare.sort_values([\"Make\",\"Model\"])\n",
        "modelCompare = pd.concat([modelCompare,produced], axis=1)\n"
      ]
    },
    {
      "cell_type": "code",
      "execution_count": null,
      "id": "4f83c549",
      "metadata": {
        "id": "4f83c549"
      },
      "outputs": [],
      "source": [
        "modelCompare[\"IncidentsRatio\"]=modelCompare[\"Incidents-Any\"]/modelCompare[\"Produced\"]\n",
        "modelCompare[\"IncidentsFatalitiesRatio\"]=modelCompare[\"Incidents-Fatalities\"]/modelCompare[\"Produced\"]\n",
        "modelCompare[\"IncidentsInjuriesRatio\"]=modelCompare[\"Incidents-Injuries\"]/modelCompare[\"Produced\"]"
      ]
    },
    {
      "cell_type": "code",
      "execution_count": null,
      "id": "bb44fe0a",
      "metadata": {
        "id": "bb44fe0a"
      },
      "outputs": [],
      "source": [
        "modelCompare[[\"Incidents-Any\",\"Incidents-Injuries\",\"Incidents-Fatalities\",\"Total Injuries\",\"Total Fatalities\",\"Produced\"]]\n"
      ]
    },
    {
      "cell_type": "code",
      "execution_count": null,
      "id": "bae23f67",
      "metadata": {
        "id": "bae23f67"
      },
      "outputs": [],
      "source": [
        "fig, ax = plt.subplots()\n",
        "modelCompare.plot.bar(y=[\"Incidents-Any\",\"Incidents-Injuries\",\"Incidents-Fatalities\",\"Produced\"], ax=ax)\n",
        "ax.legend([\"Incidents-Any\",\"Incidents-Injuries\",\"Incidents-Fatalities\",\"Planes Produced\"])\n",
        "ax.set_xlabel(\"Model\")\n",
        "ax.set_ylabel(\"Count\")\n",
        "fig.savefig(\"fig1.png\")"
      ]
    },
    {
      "cell_type": "code",
      "execution_count": null,
      "id": "af5ba433",
      "metadata": {
        "id": "af5ba433"
      },
      "outputs": [],
      "source": [
        "fig, ax = plt.subplots()\n",
        "modelCompare.plot.bar(y=[\"IncidentsRatio\",\"IncidentsInjuriesRatio\",\"IncidentsFatalitiesRatio\"], ax=ax)\n",
        "ax.legend([\"Incidents:Planes Produced\",\"Incidents-Injury:Planes Produced\",\"Incidents-Fatality:Planes Produced\"])\n",
        "fig.savefig(\"fig2.png\")"
      ]
    },
    {
      "cell_type": "code",
      "execution_count": null,
      "id": "bc216017",
      "metadata": {
        "id": "bc216017"
      },
      "outputs": [],
      "source": [
        "df.info()"
      ]
    },
    {
      "cell_type": "code",
      "execution_count": null,
      "id": "ae2d96cb",
      "metadata": {
        "id": "ae2d96cb"
      },
      "outputs": [],
      "source": [
        "df[\"Number.of.Engines\"].value_counts()"
      ]
    }
  ],
  "metadata": {
    "kernelspec": {
      "display_name": "Python (learn-env)",
      "language": "python",
      "name": "learn-env"
    },
    "language_info": {
      "codemirror_mode": {
        "name": "ipython",
        "version": 3
      },
      "file_extension": ".py",
      "mimetype": "text/x-python",
      "name": "python",
      "nbconvert_exporter": "python",
      "pygments_lexer": "ipython3",
      "version": "3.9.16"
    },
    "colab": {
      "provenance": []
    }
  },
  "nbformat": 4,
  "nbformat_minor": 5
}