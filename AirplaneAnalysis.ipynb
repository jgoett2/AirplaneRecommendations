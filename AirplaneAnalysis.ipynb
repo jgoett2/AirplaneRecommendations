{
 "cells": [
  {
   "cell_type": "markdown",
   "id": "049cf084",
   "metadata": {
    "id": "049cf084"
   },
   "source": [
    "# NTSB Aviation Accident Database Analysis"
   ]
  },
  {
   "cell_type": "markdown",
   "id": "ceb690bd",
   "metadata": {
    "id": "ceb690bd"
   },
   "source": [
    "The following analysis looks at the NTSB Accident Database (linked here) and looks at accidents as a function of various database features, with the intention of identifying airplanes with a strong safety record that would be good to purchase for leasing purposes.\n",
    "\n",
    "The features this analysis will focus on are:\n",
    "*   Date of Accident\n",
    "*   Airplane Make\n",
    "*   Airplane Model\n",
    "*   Aircraft Damage\n",
    "*   Total Injuries\n",
    "*   Total Fatalities\n",
    "*   Phase of flight\n",
    "\n"
   ]
  },
  {
   "cell_type": "markdown",
   "id": "a62eb587",
   "metadata": {
    "id": "a62eb587"
   },
   "source": [
    "## Data Cleaning"
   ]
  },
  {
   "cell_type": "markdown",
   "id": "EYx_JPpHQCQm",
   "metadata": {
    "id": "EYx_JPpHQCQm"
   },
   "source": [
    "This particular analysis will look at the following features of the accident report.  \n",
    "\n",
    "To begin, we will readin the data and clean up each of these features`"
   ]
  },
  {
   "cell_type": "markdown",
   "id": "yHqQ13I9QYoo",
   "metadata": {
    "id": "yHqQ13I9QYoo"
   },
   "source": [
    "### Import the Data"
   ]
  },
  {
   "cell_type": "code",
   "execution_count": 64,
   "id": "7ddf27b4",
   "metadata": {
    "id": "7ddf27b4"
   },
   "outputs": [],
   "source": [
    "import pandas as pd\n",
    "import numpy as np\n",
    "import matplotlib.pyplot as plt\n",
    "import matplotlib.ticker as ticker"
   ]
  },
  {
   "cell_type": "code",
   "execution_count": 25,
   "id": "5a61ab7c",
   "metadata": {
    "colab": {
     "base_uri": "https://localhost:8080/"
    },
    "id": "5a61ab7c",
    "outputId": "3c3b2735-78f4-4b27-c70c-6184b717b5bc"
   },
   "outputs": [
    {
     "name": "stderr",
     "output_type": "stream",
     "text": [
      "/var/folders/ym/68nrz1n97wj0gz5413bhpqs80000gn/T/ipykernel_12914/1096374284.py:1: DtypeWarning: Columns (6,7,28) have mixed types. Specify dtype option on import or set low_memory=False.\n",
      "  df = pd.read_csv(\"Data/Aviation_Data.csv\")\n"
     ]
    }
   ],
   "source": [
    "df = pd.read_csv(\"Data/Aviation_Data.csv\")\n",
    "models_of_interest = pd.read_csv(\"Data/ModelsOfInterest.csv\")\n",
    "\n",
    "df[\"Model\"]=df[\"Model\"].map(lambda x:str(x))\n",
    "models_of_interest[\"Model\"]=models_of_interest[\"Model\"].map(lambda x:str(x))\n",
    "#df = pd.read_csv(\"https://raw.githubusercontent.com/jgoett2/AirplaneRecommendations/main/Data/Aviation_Data.csv\")"
   ]
  },
  {
   "cell_type": "markdown",
   "id": "de2bc8c7",
   "metadata": {
    "id": "de2bc8c7"
   },
   "source": [
    "### Date of Accident"
   ]
  },
  {
   "cell_type": "markdown",
   "id": "6HQrq4RGQoft",
   "metadata": {
    "id": "6HQrq4RGQoft"
   },
   "source": [
    "Convert the string representation of Event.Date to a Pandas date-time object and store in same column.  Store the year in a new column \"Year.\""
   ]
  },
  {
   "cell_type": "code",
   "execution_count": 26,
   "id": "a8084725",
   "metadata": {
    "id": "a8084725"
   },
   "outputs": [],
   "source": [
    "df[\"Event.Date\"]=pd.to_datetime(df[\"Event.Date\"], format=\"%Y-%m-%d\")\n",
    "\n",
    "df[\"Year\"] = df[\"Event.Date\"].dt.year"
   ]
  },
  {
   "cell_type": "markdown",
   "id": "cf35791e",
   "metadata": {
    "id": "cf35791e"
   },
   "source": [
    "### Normalizing Make and Model"
   ]
  },
  {
   "cell_type": "markdown",
   "id": "zVNrYBdnQ04s",
   "metadata": {
    "id": "zVNrYBdnQ04s"
   },
   "source": [
    "This analysis will concentrate on airplane models that are currently in production.  The dataframe models_of_interest holds data about these models.  \n",
    "The database Make and Model values are updated to use consistent naming."
   ]
  },
  {
   "cell_type": "code",
   "execution_count": 27,
   "id": "d4aeb28e",
   "metadata": {
    "colab": {
     "base_uri": "https://localhost:8080/"
    },
    "id": "d4aeb28e",
    "outputId": "a404a184-b0fb-4e1e-f6f8-0988a57a4199"
   },
   "outputs": [
    {
     "data": {
      "text/plain": [
       "array(['Boeing', 'Airbus', 'Cessna', 'Piper', 'Embraer'], dtype=object)"
      ]
     },
     "execution_count": 27,
     "metadata": {},
     "output_type": "execute_result"
    }
   ],
   "source": [
    "def normalize(name, normalized_names):\n",
    "    for x in normalized_names:\n",
    "        if x.lower() in str(name).lower():\n",
    "            return x\n",
    "    return name\n",
    "\n",
    "df[\"Make\"]=df[\"Make\"].map(lambda x:str(x))\n",
    "df[\"Model\"]=df[\"Model\"].map(lambda x:str(x))\n",
    "\n",
    "df[\"Make\"]=df[\"Make\"].map(lambda x:normalize(x,models_of_interest[\"Make\"].unique()))\n",
    "df[\"Model\"]=df[\"Model\"].map(lambda x:normalize(x,models_of_interest[\"Model\"].unique()))\n",
    "\n",
    "models_of_interest[\"Make\"].unique()\n"
   ]
  },
  {
   "cell_type": "markdown",
   "id": "xJRATMRDlriX",
   "metadata": {
    "id": "xJRATMRDlriX"
   },
   "source": [
    "### Injury and Fatality Records"
   ]
  },
  {
   "cell_type": "markdown",
   "id": "NYZSdfOYlxgK",
   "metadata": {
    "id": "NYZSdfOYlxgK"
   },
   "source": [
    "Set blank records to a value of 0"
   ]
  },
  {
   "cell_type": "code",
   "execution_count": 28,
   "id": "-6djrCGgl3nj",
   "metadata": {
    "id": "-6djrCGgl3nj"
   },
   "outputs": [],
   "source": [
    "df.loc[df[\"Total.Serious.Injuries\"].isna(),\"Total.Serious.Injuries\"]=0\n",
    "df.loc[df[\"Total.Fatal.Injuries\"].isna(),\"Total.Fatal.Injuries\"]=0"
   ]
  },
  {
   "cell_type": "markdown",
   "id": "gd9sitw4YLFy",
   "metadata": {
    "id": "gd9sitw4YLFy"
   },
   "source": [
    "### Removing Extraneous Records"
   ]
  },
  {
   "cell_type": "markdown",
   "id": "3c0926f8",
   "metadata": {
    "id": "3c0926f8"
   },
   "source": [
    "Airplane Makes and Models that are not of interest are removed from the data set."
   ]
  },
  {
   "cell_type": "code",
   "execution_count": 29,
   "id": "4589060a",
   "metadata": {
    "id": "4589060a"
   },
   "outputs": [],
   "source": [
    "filter = df[\"Make\"].map(lambda x:x in models_of_interest[\"Make\"].unique())\n",
    "df = df[filter]\n",
    "\n",
    "filter = df[\"Model\"].map(lambda x:x in models_of_interest[\"Model\"].unique())\n",
    "df = df[filter]"
   ]
  },
  {
   "cell_type": "markdown",
   "id": "52qn8gW7h7oj",
   "metadata": {
    "id": "52qn8gW7h7oj"
   },
   "source": [
    "Add aircraft type to dataframe."
   ]
  },
  {
   "cell_type": "code",
   "execution_count": 30,
   "id": "iGZUZ6vyh68B",
   "metadata": {
    "id": "iGZUZ6vyh68B"
   },
   "outputs": [],
   "source": [
    "models_of_interest = models_of_interest.set_index([\"Make\",\"Model\"])"
   ]
  },
  {
   "cell_type": "code",
   "execution_count": 31,
   "id": "DnzrOCt0iHEF",
   "metadata": {
    "id": "DnzrOCt0iHEF"
   },
   "outputs": [],
   "source": [
    "df[\"Airplane.Type\"]=df.apply(lambda x: models_of_interest.loc[(x[\"Make\"],x[\"Model\"])][\"Type\"], axis=1)"
   ]
  },
  {
   "cell_type": "code",
   "execution_count": 32,
   "id": "UjAWruxIiQiO",
   "metadata": {
    "id": "UjAWruxIiQiO"
   },
   "outputs": [],
   "source": [
    "models_of_interest=models_of_interest.reset_index()"
   ]
  },
  {
   "cell_type": "code",
   "execution_count": 33,
   "id": "FxnYQHHPZpKr",
   "metadata": {
    "id": "FxnYQHHPZpKr"
   },
   "outputs": [],
   "source": [
    "features_of_interest=[\"Event.Date\",\"Year\",\"Make\",\"Model\",\"Airplane.Type\",\"Aircraft.damage\",\"Total.Fatal.Injuries\",\n",
    "                      \"Total.Serious.Injuries\",\"Broad.phase.of.flight\"]"
   ]
  },
  {
   "cell_type": "code",
   "execution_count": 34,
   "id": "_bZW8-hPZcD1",
   "metadata": {
    "id": "_bZW8-hPZcD1"
   },
   "outputs": [],
   "source": [
    "df=df[features_of_interest]"
   ]
  },
  {
   "cell_type": "code",
   "execution_count": 35,
   "id": "whIdE5W3hIDB",
   "metadata": {
    "id": "whIdE5W3hIDB"
   },
   "outputs": [],
   "source": [
    "df.to_csv(\"Airplane_data_clean.csv\")"
   ]
  },
  {
   "cell_type": "markdown",
   "id": "b288b1a8",
   "metadata": {
    "id": "b288b1a8"
   },
   "source": [
    "## Data Analysis"
   ]
  },
  {
   "cell_type": "markdown",
   "id": "9kkdHTf0Dw3N",
   "metadata": {
    "id": "9kkdHTf0Dw3N"
   },
   "source": [
    "Analyze various features to support recommendations for aircraft purchase."
   ]
  },
  {
   "cell_type": "markdown",
   "id": "1Q-RFFeWTYR5",
   "metadata": {
    "id": "1Q-RFFeWTYR5"
   },
   "source": [
    "### Accidents vs. Time"
   ]
  },
  {
   "cell_type": "code",
   "execution_count": 65,
   "id": "IgRVIvwXT4FT",
   "metadata": {
    "colab": {
     "base_uri": "https://localhost:8080/",
     "height": 468
    },
    "id": "IgRVIvwXT4FT",
    "outputId": "ee0faef8-3b11-41a5-a947-3bb63d76f6bc"
   },
   "outputs": [
    {
     "data": {
      "image/png": "[encoded data removed]",
      "text/plain": [
       "<Figure size 640x480 with 1 Axes>"
      ]
     },
     "metadata": {},
     "output_type": "display_data"
    }
   ],
   "source": [
    "count, years = np.histogram(df[df[\"Year\"].isna()==False][\"Year\"],bins=range(1982,2024,1))\n",
    "\n",
    "fig, ax=plt.subplots()\n",
    "pd.DataFrame(count,index=years[0:41]).plot.bar(ax=ax,fontsize=12)\n",
    "\n",
    "#ax.set_title(\"Total Accidents by Year\", fontsize=16)\n",
    "ax.set_xlabel(\"Year\", fontsize=14)\n",
    "ax.set_ylabel(\"Accident Count\", fontsize=14)\n",
    "ax.get_legend().remove()\n",
    "\n",
    "tick_spacing = 3\n",
    "\n",
    "ax.xaxis.set_major_locator(ticker.MultipleLocator(tick_spacing))\n",
    "fig.savefig(\"images/total_accidents.png\",bbox_inches=\"tight\")\n"
   ]
  },
  {
   "cell_type": "markdown",
   "id": "895c9a62",
   "metadata": {},
   "source": [
    "### Accidents vs. Time by Airplane Type"
   ]
  },
  {
   "cell_type": "code",
   "execution_count": 70,
   "id": "da775fb7",
   "metadata": {},
   "outputs": [
    {
     "name": "stdout",
     "output_type": "stream",
     "text": [
      "<class 'pandas.core.frame.DataFrame'>\n",
      "Index: 17922 entries, 2 to 90343\n",
      "Data columns (total 9 columns):\n",
      " #   Column                  Non-Null Count  Dtype         \n",
      "---  ------                  --------------  -----         \n",
      " 0   Event.Date              17922 non-null  datetime64[ns]\n",
      " 1   Year                    17922 non-null  float64       \n",
      " 2   Make                    17922 non-null  object        \n",
      " 3   Model                   17922 non-null  object        \n",
      " 4   Airplane.Type           17922 non-null  object        \n",
      " 5   Aircraft.damage         16765 non-null  object        \n",
      " 6   Total.Fatal.Injuries    17922 non-null  float64       \n",
      " 7   Total.Serious.Injuries  17922 non-null  float64       \n",
      " 8   Broad.phase.of.flight   12498 non-null  object        \n",
      "dtypes: datetime64[ns](1), float64(3), object(5)\n",
      "memory usage: 1.4+ MB\n"
     ]
    }
   ],
   "source": [
    "df.info()"
   ]
  },
  {
   "cell_type": "code",
   "execution_count": 105,
   "id": "e0ccbbeb",
   "metadata": {},
   "outputs": [
    {
     "data": {
      "image/png": "[encoded data removed]",
      "text/plain": [
       "<Figure size 640x480 with 1 Axes>"
      ]
     },
     "metadata": {},
     "output_type": "display_data"
    }
   ],
   "source": [
    "wide_body=df[(df[\"Year\"].isna()==False) & (df[\"Airplane.Type\"]==\"wide-body\")][\"Year\"]\n",
    "narrow_body=df[(df[\"Year\"].isna()==False) & (df[\"Airplane.Type\"]==\"narrow-body\")][\"Year\"]\n",
    "business_jet=df[(df[\"Year\"].isna()==False) & (df[\"Airplane.Type\"]==\"business jet\")][\"Year\"]\n",
    "\n",
    "count_wide, years = np.histogram(wide_body,bins=range(1982,2024,1))\n",
    "count_narrow, years = np.histogram(narrow_body,bins=range(1982,2024,1))\n",
    "count_business, years = np.histogram(narrow_body,bins=range(1982,2024,1))\n",
    "\n",
    "\n",
    "\n",
    "fig, ax=plt.subplots()\n",
    "pd.DataFrame({\"narrow-body\":count_narrow,\"business jet\":count_business,\"wide-body\":count_wide,},index=years[0:41]).plot.bar(ax=ax,fontsize=12,stacked=True)\n",
    "\n",
    "ax.set_xlabel(\"Year\", fontsize=14)\n",
    "ax.set_ylabel(\"Accident Count\", fontsize=14)\n",
    "\n",
    "\n",
    "tick_spacing = 3\n",
    "\n",
    "ax.xaxis.set_major_locator(ticker.MultipleLocator(tick_spacing))\n",
    "fig.savefig(\"images/total_accidents_type.png\",bbox_inches=\"tight\")"
   ]
  },
  {
   "cell_type": "markdown",
   "id": "MrkmoOOlTUAd",
   "metadata": {
    "id": "MrkmoOOlTUAd"
   },
   "source": [
    "### Accidents vs. Time by Model and Type"
   ]
  },
  {
   "cell_type": "markdown",
   "id": "THDSGc3ZIKS5",
   "metadata": {
    "id": "THDSGc3ZIKS5"
   },
   "source": [
    "### Wide-Body Aircraft"
   ]
  },
  {
   "cell_type": "code",
   "execution_count": 37,
   "id": "WaH26wO8E_tL",
   "metadata": {
    "id": "WaH26wO8E_tL"
   },
   "outputs": [],
   "source": [
    "wide_body=df[df[\"Airplane.Type\"]==\"wide-body\"]\n",
    "all_accident_count=wide_body.groupby([\"Model\"]).count()[\"Event.Date\"]\n",
    "\n",
    "filter_serious_injury=wide_body[\"Total.Serious.Injuries\"]>0\n",
    "injury_accident_count=wide_body[filter_serious_injury].groupby([\"Model\"]).count()[\"Event.Date\"]\n",
    "\n",
    "filter_fatal_injury=wide_body[\"Total.Fatal.Injuries\"]>0\n",
    "fatal_accident_count=wide_body[filter_fatal_injury].groupby([\"Model\"]).count()[\"Event.Date\"]\n",
    "\n",
    "\n",
    "distribution=pd.concat([all_accident_count,injury_accident_count,fatal_accident_count],axis=1)\n",
    "distribution.columns=[\"Accidents-All\",\"Accidents-Serious Injury\",\"Accidents-Fatal\"]"
   ]
  },
  {
   "cell_type": "code",
   "execution_count": 39,
   "id": "6EbD56siJqti",
   "metadata": {
    "colab": {
     "base_uri": "https://localhost:8080/",
     "height": 515
    },
    "id": "6EbD56siJqti",
    "outputId": "14668ff0-522e-4d42-be47-ccb436610c23"
   },
   "outputs": [
    {
     "data": {
      "image/png": "[encoded data removed]",
      "text/plain": [
       "<Figure size 640x480 with 1 Axes>"
      ]
     },
     "metadata": {},
     "output_type": "display_data"
    }
   ],
   "source": [
    "fig, ax=plt.subplots()\n",
    "distribution.plot.bar(ax=ax, fontsize=14)\n",
    "\n",
    "ax.set_title(\"Accident Type by Wide-Body Model\", fontsize=16)\n",
    "ax.set_xlabel(\"Aircraft Model\", fontsize=14)\n",
    "ax.set_ylabel(\"Accident Count\", fontsize=14)\n",
    "ax.legend(fontsize=12)\n",
    "\n",
    "fig.savefig(\"images/widebody_distribution.png\",bbox_inches=\"tight\")"
   ]
  },
  {
   "cell_type": "code",
   "execution_count": 19,
   "id": "vU6PYEQhYnh2",
   "metadata": {
    "colab": {
     "base_uri": "https://localhost:8080/",
     "height": 350
    },
    "id": "vU6PYEQhYnh2",
    "outputId": "71c50f8c-fcb1-4ce7-a776-457429690655"
   },
   "outputs": [
    {
     "ename": "TypeError",
     "evalue": "datetime64 type does not support sum operations",
     "output_type": "error",
     "traceback": [
      "\u001b[0;31m---------------------------------------------------------------------------\u001b[0m",
      "\u001b[0;31mTypeError\u001b[0m                                 Traceback (most recent call last)",
      "Cell \u001b[0;32mIn[19], line 8\u001b[0m\n\u001b[1;32m      5\u001b[0m incidents_injuries\u001b[38;5;241m=\u001b[39mdf[df[\u001b[38;5;124m\"\u001b[39m\u001b[38;5;124mTotal.Serious.Injuries\u001b[39m\u001b[38;5;124m\"\u001b[39m]\u001b[38;5;241m>\u001b[39m\u001b[38;5;241m0\u001b[39m]\u001b[38;5;241m.\u001b[39mgroupby([\u001b[38;5;124m\"\u001b[39m\u001b[38;5;124mMake\u001b[39m\u001b[38;5;124m\"\u001b[39m,\u001b[38;5;124m\"\u001b[39m\u001b[38;5;124mModel\u001b[39m\u001b[38;5;124m\"\u001b[39m])\u001b[38;5;241m.\u001b[39mcount()[\u001b[38;5;124m\"\u001b[39m\u001b[38;5;124mTotal.Serious.Injuries\u001b[39m\u001b[38;5;124m\"\u001b[39m]\n\u001b[1;32m      7\u001b[0m incidents_fatal\u001b[38;5;241m=\u001b[39mdf[df[\u001b[38;5;124m\"\u001b[39m\u001b[38;5;124mTotal.Fatal.Injuries\u001b[39m\u001b[38;5;124m\"\u001b[39m]\u001b[38;5;241m>\u001b[39m\u001b[38;5;241m0\u001b[39m]\u001b[38;5;241m.\u001b[39mgroupby([\u001b[38;5;124m\"\u001b[39m\u001b[38;5;124mMake\u001b[39m\u001b[38;5;124m\"\u001b[39m,\u001b[38;5;124m\"\u001b[39m\u001b[38;5;124mModel\u001b[39m\u001b[38;5;124m\"\u001b[39m])\u001b[38;5;241m.\u001b[39mcount()[\u001b[38;5;124m\"\u001b[39m\u001b[38;5;124mTotal.Fatal.Injuries\u001b[39m\u001b[38;5;124m\"\u001b[39m]\n\u001b[0;32m----> 8\u001b[0m injury_total\u001b[38;5;241m=\u001b[39m\u001b[43mdf\u001b[49m\u001b[38;5;241;43m.\u001b[39;49m\u001b[43mgroupby\u001b[49m\u001b[43m(\u001b[49m\u001b[43m[\u001b[49m\u001b[38;5;124;43m\"\u001b[39;49m\u001b[38;5;124;43mMake\u001b[39;49m\u001b[38;5;124;43m\"\u001b[39;49m\u001b[43m,\u001b[49m\u001b[38;5;124;43m\"\u001b[39;49m\u001b[38;5;124;43mModel\u001b[39;49m\u001b[38;5;124;43m\"\u001b[39;49m\u001b[43m]\u001b[49m\u001b[43m)\u001b[49m\u001b[38;5;241;43m.\u001b[39;49m\u001b[43msum\u001b[49m\u001b[43m(\u001b[49m\u001b[43m)\u001b[49m[[\u001b[38;5;124m\"\u001b[39m\u001b[38;5;124mTotal.Serious.Injuries\u001b[39m\u001b[38;5;124m\"\u001b[39m,\u001b[38;5;124m\"\u001b[39m\u001b[38;5;124mTotal.Fatal.Injuries\u001b[39m\u001b[38;5;124m\"\u001b[39m]]\n",
      "File \u001b[0;32m~/anaconda3/envs/learn-env/lib/python3.9/site-packages/pandas/core/groupby/groupby.py:2263\u001b[0m, in \u001b[0;36mGroupBy.sum\u001b[0;34m(self, numeric_only, min_count, engine, engine_kwargs)\u001b[0m\n\u001b[1;32m   2258\u001b[0m \u001b[38;5;28;01melse\u001b[39;00m:\n\u001b[1;32m   2259\u001b[0m     \u001b[38;5;66;03m# If we are grouping on categoricals we want unobserved categories to\u001b[39;00m\n\u001b[1;32m   2260\u001b[0m     \u001b[38;5;66;03m# return zero, rather than the default of NaN which the reindexing in\u001b[39;00m\n\u001b[1;32m   2261\u001b[0m     \u001b[38;5;66;03m# _agg_general() returns. GH #31422\u001b[39;00m\n\u001b[1;32m   2262\u001b[0m     \u001b[38;5;28;01mwith\u001b[39;00m com\u001b[38;5;241m.\u001b[39mtemp_setattr(\u001b[38;5;28mself\u001b[39m, \u001b[38;5;124m\"\u001b[39m\u001b[38;5;124mobserved\u001b[39m\u001b[38;5;124m\"\u001b[39m, \u001b[38;5;28;01mTrue\u001b[39;00m):\n\u001b[0;32m-> 2263\u001b[0m         result \u001b[38;5;241m=\u001b[39m \u001b[38;5;28;43mself\u001b[39;49m\u001b[38;5;241;43m.\u001b[39;49m\u001b[43m_agg_general\u001b[49m\u001b[43m(\u001b[49m\n\u001b[1;32m   2264\u001b[0m \u001b[43m            \u001b[49m\u001b[43mnumeric_only\u001b[49m\u001b[38;5;241;43m=\u001b[39;49m\u001b[43mnumeric_only\u001b[49m\u001b[43m,\u001b[49m\n\u001b[1;32m   2265\u001b[0m \u001b[43m            \u001b[49m\u001b[43mmin_count\u001b[49m\u001b[38;5;241;43m=\u001b[39;49m\u001b[43mmin_count\u001b[49m\u001b[43m,\u001b[49m\n\u001b[1;32m   2266\u001b[0m \u001b[43m            \u001b[49m\u001b[43malias\u001b[49m\u001b[38;5;241;43m=\u001b[39;49m\u001b[38;5;124;43m\"\u001b[39;49m\u001b[38;5;124;43msum\u001b[39;49m\u001b[38;5;124;43m\"\u001b[39;49m\u001b[43m,\u001b[49m\n\u001b[1;32m   2267\u001b[0m \u001b[43m            \u001b[49m\u001b[43mnpfunc\u001b[49m\u001b[38;5;241;43m=\u001b[39;49m\u001b[43mnp\u001b[49m\u001b[38;5;241;43m.\u001b[39;49m\u001b[43msum\u001b[49m\u001b[43m,\u001b[49m\n\u001b[1;32m   2268\u001b[0m \u001b[43m        \u001b[49m\u001b[43m)\u001b[49m\n\u001b[1;32m   2270\u001b[0m     \u001b[38;5;28;01mreturn\u001b[39;00m \u001b[38;5;28mself\u001b[39m\u001b[38;5;241m.\u001b[39m_reindex_output(result, fill_value\u001b[38;5;241m=\u001b[39m\u001b[38;5;241m0\u001b[39m)\n",
      "File \u001b[0;32m~/anaconda3/envs/learn-env/lib/python3.9/site-packages/pandas/core/groupby/groupby.py:1422\u001b[0m, in \u001b[0;36mGroupBy._agg_general\u001b[0;34m(self, numeric_only, min_count, alias, npfunc)\u001b[0m\n\u001b[1;32m   1413\u001b[0m \u001b[38;5;129m@final\u001b[39m\n\u001b[1;32m   1414\u001b[0m \u001b[38;5;28;01mdef\u001b[39;00m \u001b[38;5;21m_agg_general\u001b[39m(\n\u001b[1;32m   1415\u001b[0m     \u001b[38;5;28mself\u001b[39m,\n\u001b[0;32m   (...)\u001b[0m\n\u001b[1;32m   1420\u001b[0m     npfunc: Callable,\n\u001b[1;32m   1421\u001b[0m ):\n\u001b[0;32m-> 1422\u001b[0m     result \u001b[38;5;241m=\u001b[39m \u001b[38;5;28;43mself\u001b[39;49m\u001b[38;5;241;43m.\u001b[39;49m\u001b[43m_cython_agg_general\u001b[49m\u001b[43m(\u001b[49m\n\u001b[1;32m   1423\u001b[0m \u001b[43m        \u001b[49m\u001b[43mhow\u001b[49m\u001b[38;5;241;43m=\u001b[39;49m\u001b[43malias\u001b[49m\u001b[43m,\u001b[49m\n\u001b[1;32m   1424\u001b[0m \u001b[43m        \u001b[49m\u001b[43malt\u001b[49m\u001b[38;5;241;43m=\u001b[39;49m\u001b[43mnpfunc\u001b[49m\u001b[43m,\u001b[49m\n\u001b[1;32m   1425\u001b[0m \u001b[43m        \u001b[49m\u001b[43mnumeric_only\u001b[49m\u001b[38;5;241;43m=\u001b[39;49m\u001b[43mnumeric_only\u001b[49m\u001b[43m,\u001b[49m\n\u001b[1;32m   1426\u001b[0m \u001b[43m        \u001b[49m\u001b[43mmin_count\u001b[49m\u001b[38;5;241;43m=\u001b[39;49m\u001b[43mmin_count\u001b[49m\u001b[43m,\u001b[49m\n\u001b[1;32m   1427\u001b[0m \u001b[43m    \u001b[49m\u001b[43m)\u001b[49m\n\u001b[1;32m   1428\u001b[0m     \u001b[38;5;28;01mreturn\u001b[39;00m result\u001b[38;5;241m.\u001b[39m__finalize__(\u001b[38;5;28mself\u001b[39m\u001b[38;5;241m.\u001b[39mobj, method\u001b[38;5;241m=\u001b[39m\u001b[38;5;124m\"\u001b[39m\u001b[38;5;124mgroupby\u001b[39m\u001b[38;5;124m\"\u001b[39m)\n",
      "File \u001b[0;32m~/anaconda3/envs/learn-env/lib/python3.9/site-packages/pandas/core/groupby/groupby.py:1507\u001b[0m, in \u001b[0;36mGroupBy._cython_agg_general\u001b[0;34m(self, how, alt, numeric_only, min_count, **kwargs)\u001b[0m\n\u001b[1;32m   1503\u001b[0m         result \u001b[38;5;241m=\u001b[39m \u001b[38;5;28mself\u001b[39m\u001b[38;5;241m.\u001b[39m_agg_py_fallback(values, ndim\u001b[38;5;241m=\u001b[39mdata\u001b[38;5;241m.\u001b[39mndim, alt\u001b[38;5;241m=\u001b[39malt)\n\u001b[1;32m   1505\u001b[0m     \u001b[38;5;28;01mreturn\u001b[39;00m result\n\u001b[0;32m-> 1507\u001b[0m new_mgr \u001b[38;5;241m=\u001b[39m \u001b[43mdata\u001b[49m\u001b[38;5;241;43m.\u001b[39;49m\u001b[43mgrouped_reduce\u001b[49m\u001b[43m(\u001b[49m\u001b[43marray_func\u001b[49m\u001b[43m)\u001b[49m\n\u001b[1;32m   1508\u001b[0m res \u001b[38;5;241m=\u001b[39m \u001b[38;5;28mself\u001b[39m\u001b[38;5;241m.\u001b[39m_wrap_agged_manager(new_mgr)\n\u001b[1;32m   1509\u001b[0m out \u001b[38;5;241m=\u001b[39m \u001b[38;5;28mself\u001b[39m\u001b[38;5;241m.\u001b[39m_wrap_aggregated_output(res)\n",
      "File \u001b[0;32m~/anaconda3/envs/learn-env/lib/python3.9/site-packages/pandas/core/internals/managers.py:1506\u001b[0m, in \u001b[0;36mBlockManager.grouped_reduce\u001b[0;34m(self, func)\u001b[0m\n\u001b[1;32m   1504\u001b[0m             result_blocks \u001b[38;5;241m=\u001b[39m extend_blocks(applied, result_blocks)\n\u001b[1;32m   1505\u001b[0m     \u001b[38;5;28;01melse\u001b[39;00m:\n\u001b[0;32m-> 1506\u001b[0m         applied \u001b[38;5;241m=\u001b[39m \u001b[43mblk\u001b[49m\u001b[38;5;241;43m.\u001b[39;49m\u001b[43mapply\u001b[49m\u001b[43m(\u001b[49m\u001b[43mfunc\u001b[49m\u001b[43m)\u001b[49m\n\u001b[1;32m   1507\u001b[0m         result_blocks \u001b[38;5;241m=\u001b[39m extend_blocks(applied, result_blocks)\n\u001b[1;32m   1509\u001b[0m \u001b[38;5;28;01mif\u001b[39;00m \u001b[38;5;28mlen\u001b[39m(result_blocks) \u001b[38;5;241m==\u001b[39m \u001b[38;5;241m0\u001b[39m:\n",
      "File \u001b[0;32m~/anaconda3/envs/learn-env/lib/python3.9/site-packages/pandas/core/internals/blocks.py:329\u001b[0m, in \u001b[0;36mBlock.apply\u001b[0;34m(self, func, **kwargs)\u001b[0m\n\u001b[1;32m    323\u001b[0m \u001b[38;5;129m@final\u001b[39m\n\u001b[1;32m    324\u001b[0m \u001b[38;5;28;01mdef\u001b[39;00m \u001b[38;5;21mapply\u001b[39m(\u001b[38;5;28mself\u001b[39m, func, \u001b[38;5;241m*\u001b[39m\u001b[38;5;241m*\u001b[39mkwargs) \u001b[38;5;241m-\u001b[39m\u001b[38;5;241m>\u001b[39m \u001b[38;5;28mlist\u001b[39m[Block]:\n\u001b[1;32m    325\u001b[0m \u001b[38;5;250m    \u001b[39m\u001b[38;5;124;03m\"\"\"\u001b[39;00m\n\u001b[1;32m    326\u001b[0m \u001b[38;5;124;03m    apply the function to my values; return a block if we are not\u001b[39;00m\n\u001b[1;32m    327\u001b[0m \u001b[38;5;124;03m    one\u001b[39;00m\n\u001b[1;32m    328\u001b[0m \u001b[38;5;124;03m    \"\"\"\u001b[39;00m\n\u001b[0;32m--> 329\u001b[0m     result \u001b[38;5;241m=\u001b[39m \u001b[43mfunc\u001b[49m\u001b[43m(\u001b[49m\u001b[38;5;28;43mself\u001b[39;49m\u001b[38;5;241;43m.\u001b[39;49m\u001b[43mvalues\u001b[49m\u001b[43m,\u001b[49m\u001b[43m \u001b[49m\u001b[38;5;241;43m*\u001b[39;49m\u001b[38;5;241;43m*\u001b[39;49m\u001b[43mkwargs\u001b[49m\u001b[43m)\u001b[49m\n\u001b[1;32m    331\u001b[0m     \u001b[38;5;28;01mreturn\u001b[39;00m \u001b[38;5;28mself\u001b[39m\u001b[38;5;241m.\u001b[39m_split_op_result(result)\n",
      "File \u001b[0;32m~/anaconda3/envs/learn-env/lib/python3.9/site-packages/pandas/core/groupby/groupby.py:1490\u001b[0m, in \u001b[0;36mGroupBy._cython_agg_general.<locals>.array_func\u001b[0;34m(values)\u001b[0m\n\u001b[1;32m   1488\u001b[0m \u001b[38;5;28;01mdef\u001b[39;00m \u001b[38;5;21marray_func\u001b[39m(values: ArrayLike) \u001b[38;5;241m-\u001b[39m\u001b[38;5;241m>\u001b[39m ArrayLike:\n\u001b[1;32m   1489\u001b[0m     \u001b[38;5;28;01mtry\u001b[39;00m:\n\u001b[0;32m-> 1490\u001b[0m         result \u001b[38;5;241m=\u001b[39m \u001b[38;5;28;43mself\u001b[39;49m\u001b[38;5;241;43m.\u001b[39;49m\u001b[43mgrouper\u001b[49m\u001b[38;5;241;43m.\u001b[39;49m\u001b[43m_cython_operation\u001b[49m\u001b[43m(\u001b[49m\n\u001b[1;32m   1491\u001b[0m \u001b[43m            \u001b[49m\u001b[38;5;124;43m\"\u001b[39;49m\u001b[38;5;124;43maggregate\u001b[39;49m\u001b[38;5;124;43m\"\u001b[39;49m\u001b[43m,\u001b[49m\n\u001b[1;32m   1492\u001b[0m \u001b[43m            \u001b[49m\u001b[43mvalues\u001b[49m\u001b[43m,\u001b[49m\n\u001b[1;32m   1493\u001b[0m \u001b[43m            \u001b[49m\u001b[43mhow\u001b[49m\u001b[43m,\u001b[49m\n\u001b[1;32m   1494\u001b[0m \u001b[43m            \u001b[49m\u001b[43maxis\u001b[49m\u001b[38;5;241;43m=\u001b[39;49m\u001b[43mdata\u001b[49m\u001b[38;5;241;43m.\u001b[39;49m\u001b[43mndim\u001b[49m\u001b[43m \u001b[49m\u001b[38;5;241;43m-\u001b[39;49m\u001b[43m \u001b[49m\u001b[38;5;241;43m1\u001b[39;49m\u001b[43m,\u001b[49m\n\u001b[1;32m   1495\u001b[0m \u001b[43m            \u001b[49m\u001b[43mmin_count\u001b[49m\u001b[38;5;241;43m=\u001b[39;49m\u001b[43mmin_count\u001b[49m\u001b[43m,\u001b[49m\n\u001b[1;32m   1496\u001b[0m \u001b[43m            \u001b[49m\u001b[38;5;241;43m*\u001b[39;49m\u001b[38;5;241;43m*\u001b[39;49m\u001b[43mkwargs\u001b[49m\u001b[43m,\u001b[49m\n\u001b[1;32m   1497\u001b[0m \u001b[43m        \u001b[49m\u001b[43m)\u001b[49m\n\u001b[1;32m   1498\u001b[0m     \u001b[38;5;28;01mexcept\u001b[39;00m \u001b[38;5;167;01mNotImplementedError\u001b[39;00m:\n\u001b[1;32m   1499\u001b[0m         \u001b[38;5;66;03m# generally if we have numeric_only=False\u001b[39;00m\n\u001b[1;32m   1500\u001b[0m         \u001b[38;5;66;03m# and non-applicable functions\u001b[39;00m\n\u001b[1;32m   1501\u001b[0m         \u001b[38;5;66;03m# try to python agg\u001b[39;00m\n\u001b[1;32m   1502\u001b[0m         \u001b[38;5;66;03m# TODO: shouldn't min_count matter?\u001b[39;00m\n\u001b[1;32m   1503\u001b[0m         result \u001b[38;5;241m=\u001b[39m \u001b[38;5;28mself\u001b[39m\u001b[38;5;241m.\u001b[39m_agg_py_fallback(values, ndim\u001b[38;5;241m=\u001b[39mdata\u001b[38;5;241m.\u001b[39mndim, alt\u001b[38;5;241m=\u001b[39malt)\n",
      "File \u001b[0;32m~/anaconda3/envs/learn-env/lib/python3.9/site-packages/pandas/core/groupby/ops.py:959\u001b[0m, in \u001b[0;36mBaseGrouper._cython_operation\u001b[0;34m(self, kind, values, how, axis, min_count, **kwargs)\u001b[0m\n\u001b[1;32m    957\u001b[0m ids, _, _ \u001b[38;5;241m=\u001b[39m \u001b[38;5;28mself\u001b[39m\u001b[38;5;241m.\u001b[39mgroup_info\n\u001b[1;32m    958\u001b[0m ngroups \u001b[38;5;241m=\u001b[39m \u001b[38;5;28mself\u001b[39m\u001b[38;5;241m.\u001b[39mngroups\n\u001b[0;32m--> 959\u001b[0m \u001b[38;5;28;01mreturn\u001b[39;00m \u001b[43mcy_op\u001b[49m\u001b[38;5;241;43m.\u001b[39;49m\u001b[43mcython_operation\u001b[49m\u001b[43m(\u001b[49m\n\u001b[1;32m    960\u001b[0m \u001b[43m    \u001b[49m\u001b[43mvalues\u001b[49m\u001b[38;5;241;43m=\u001b[39;49m\u001b[43mvalues\u001b[49m\u001b[43m,\u001b[49m\n\u001b[1;32m    961\u001b[0m \u001b[43m    \u001b[49m\u001b[43maxis\u001b[49m\u001b[38;5;241;43m=\u001b[39;49m\u001b[43maxis\u001b[49m\u001b[43m,\u001b[49m\n\u001b[1;32m    962\u001b[0m \u001b[43m    \u001b[49m\u001b[43mmin_count\u001b[49m\u001b[38;5;241;43m=\u001b[39;49m\u001b[43mmin_count\u001b[49m\u001b[43m,\u001b[49m\n\u001b[1;32m    963\u001b[0m \u001b[43m    \u001b[49m\u001b[43mcomp_ids\u001b[49m\u001b[38;5;241;43m=\u001b[39;49m\u001b[43mids\u001b[49m\u001b[43m,\u001b[49m\n\u001b[1;32m    964\u001b[0m \u001b[43m    \u001b[49m\u001b[43mngroups\u001b[49m\u001b[38;5;241;43m=\u001b[39;49m\u001b[43mngroups\u001b[49m\u001b[43m,\u001b[49m\n\u001b[1;32m    965\u001b[0m \u001b[43m    \u001b[49m\u001b[38;5;241;43m*\u001b[39;49m\u001b[38;5;241;43m*\u001b[39;49m\u001b[43mkwargs\u001b[49m\u001b[43m,\u001b[49m\n\u001b[1;32m    966\u001b[0m \u001b[43m\u001b[49m\u001b[43m)\u001b[49m\n",
      "File \u001b[0;32m~/anaconda3/envs/learn-env/lib/python3.9/site-packages/pandas/core/groupby/ops.py:645\u001b[0m, in \u001b[0;36mWrappedCythonOp.cython_operation\u001b[0;34m(self, values, axis, min_count, comp_ids, ngroups, **kwargs)\u001b[0m\n\u001b[1;32m    641\u001b[0m is_numeric \u001b[38;5;241m=\u001b[39m is_numeric_dtype(dtype)\n\u001b[1;32m    643\u001b[0m \u001b[38;5;66;03m# can we do this operation with our cython functions\u001b[39;00m\n\u001b[1;32m    644\u001b[0m \u001b[38;5;66;03m# if not raise NotImplementedError\u001b[39;00m\n\u001b[0;32m--> 645\u001b[0m \u001b[38;5;28;43mself\u001b[39;49m\u001b[38;5;241;43m.\u001b[39;49m\u001b[43m_disallow_invalid_ops\u001b[49m\u001b[43m(\u001b[49m\u001b[43mdtype\u001b[49m\u001b[43m,\u001b[49m\u001b[43m \u001b[49m\u001b[43mis_numeric\u001b[49m\u001b[43m)\u001b[49m\n\u001b[1;32m    647\u001b[0m \u001b[38;5;28;01mif\u001b[39;00m \u001b[38;5;129;01mnot\u001b[39;00m \u001b[38;5;28misinstance\u001b[39m(values, np\u001b[38;5;241m.\u001b[39mndarray):\n\u001b[1;32m    648\u001b[0m     \u001b[38;5;66;03m# i.e. ExtensionArray\u001b[39;00m\n\u001b[1;32m    649\u001b[0m     \u001b[38;5;28;01mreturn\u001b[39;00m \u001b[38;5;28mself\u001b[39m\u001b[38;5;241m.\u001b[39m_ea_wrap_cython_operation(\n\u001b[1;32m    650\u001b[0m         values,\n\u001b[1;32m    651\u001b[0m         min_count\u001b[38;5;241m=\u001b[39mmin_count,\n\u001b[0;32m   (...)\u001b[0m\n\u001b[1;32m    654\u001b[0m         \u001b[38;5;241m*\u001b[39m\u001b[38;5;241m*\u001b[39mkwargs,\n\u001b[1;32m    655\u001b[0m     )\n",
      "File \u001b[0;32m~/anaconda3/envs/learn-env/lib/python3.9/site-packages/pandas/core/groupby/ops.py:257\u001b[0m, in \u001b[0;36mWrappedCythonOp._disallow_invalid_ops\u001b[0;34m(self, dtype, is_numeric)\u001b[0m\n\u001b[1;32m    254\u001b[0m \u001b[38;5;28;01melif\u001b[39;00m is_datetime64_any_dtype(dtype):\n\u001b[1;32m    255\u001b[0m     \u001b[38;5;66;03m# Adding/multiplying datetimes is not valid\u001b[39;00m\n\u001b[1;32m    256\u001b[0m     \u001b[38;5;28;01mif\u001b[39;00m how \u001b[38;5;129;01min\u001b[39;00m [\u001b[38;5;124m\"\u001b[39m\u001b[38;5;124msum\u001b[39m\u001b[38;5;124m\"\u001b[39m, \u001b[38;5;124m\"\u001b[39m\u001b[38;5;124mprod\u001b[39m\u001b[38;5;124m\"\u001b[39m, \u001b[38;5;124m\"\u001b[39m\u001b[38;5;124mcumsum\u001b[39m\u001b[38;5;124m\"\u001b[39m, \u001b[38;5;124m\"\u001b[39m\u001b[38;5;124mcumprod\u001b[39m\u001b[38;5;124m\"\u001b[39m]:\n\u001b[0;32m--> 257\u001b[0m         \u001b[38;5;28;01mraise\u001b[39;00m \u001b[38;5;167;01mTypeError\u001b[39;00m(\u001b[38;5;124mf\u001b[39m\u001b[38;5;124m\"\u001b[39m\u001b[38;5;124mdatetime64 type does not support \u001b[39m\u001b[38;5;132;01m{\u001b[39;00mhow\u001b[38;5;132;01m}\u001b[39;00m\u001b[38;5;124m operations\u001b[39m\u001b[38;5;124m\"\u001b[39m)\n\u001b[1;32m    258\u001b[0m \u001b[38;5;28;01melif\u001b[39;00m is_period_dtype(dtype):\n\u001b[1;32m    259\u001b[0m     \u001b[38;5;66;03m# Adding/multiplying Periods is not valid\u001b[39;00m\n\u001b[1;32m    260\u001b[0m     \u001b[38;5;28;01mif\u001b[39;00m how \u001b[38;5;129;01min\u001b[39;00m [\u001b[38;5;124m\"\u001b[39m\u001b[38;5;124msum\u001b[39m\u001b[38;5;124m\"\u001b[39m, \u001b[38;5;124m\"\u001b[39m\u001b[38;5;124mprod\u001b[39m\u001b[38;5;124m\"\u001b[39m, \u001b[38;5;124m\"\u001b[39m\u001b[38;5;124mcumsum\u001b[39m\u001b[38;5;124m\"\u001b[39m, \u001b[38;5;124m\"\u001b[39m\u001b[38;5;124mcumprod\u001b[39m\u001b[38;5;124m\"\u001b[39m]:\n",
      "\u001b[0;31mTypeError\u001b[0m: datetime64 type does not support sum operations"
     ]
    }
   ],
   "source": [
    "for col in [\"Total.Serious.Injuries\",\"Total.Fatal.Injuries\"]:\n",
    "    df[col]=df[col].map(lambda x:0 if np.isnan(x) else int(x))\n",
    "\n",
    "incidents = df.groupby([\"Make\",\"Model\"]).count()[\"Total.Serious.Injuries\"]\n",
    "incidents_injuries=df[df[\"Total.Serious.Injuries\"]>0].groupby([\"Make\",\"Model\"]).count()[\"Total.Serious.Injuries\"]\n",
    "\n",
    "incidents_fatal=df[df[\"Total.Fatal.Injuries\"]>0].groupby([\"Make\",\"Model\"]).count()[\"Total.Fatal.Injuries\"]\n",
    "injury_total=df.groupby([\"Make\",\"Model\"]).sum()[[\"Total.Serious.Injuries\",\"Total.Fatal.Injuries\"]]\n"
   ]
  },
  {
   "cell_type": "code",
   "execution_count": null,
   "id": "4f6f63f3",
   "metadata": {
    "id": "4f6f63f3"
   },
   "outputs": [],
   "source": [
    "modelCompare=pd.concat([incidents,incidents_injuries,incidents_fatal,injury_total],axis=1)\n",
    "modelCompare.columns=[\"Incidents-Any\",\"Incidents-Injuries\",\"Incidents-Fatalities\",\"Total Injuries\",\"Total Fatalities\"]\n",
    "\n",
    "for col in modelCompare.columns:\n",
    "    modelCompare[col]=modelCompare[col].map(lambda x: 0 if np.isnan(x) else int(x))\n",
    "\n",
    "\n",
    "produced = models_of_interest.set_index([\"Make\",\"Model\"])\n",
    "modelCompare = modelCompare.sort_values([\"Make\",\"Model\"])\n",
    "modelCompare = pd.concat([modelCompare,produced], axis=1)\n"
   ]
  },
  {
   "cell_type": "code",
   "execution_count": null,
   "id": "4f83c549",
   "metadata": {
    "id": "4f83c549"
   },
   "outputs": [],
   "source": [
    "modelCompare[\"IncidentsRatio\"]=modelCompare[\"Incidents-Any\"]/modelCompare[\"Produced\"]\n",
    "modelCompare[\"IncidentsFatalitiesRatio\"]=modelCompare[\"Incidents-Fatalities\"]/modelCompare[\"Produced\"]\n",
    "modelCompare[\"IncidentsInjuriesRatio\"]=modelCompare[\"Incidents-Injuries\"]/modelCompare[\"Produced\"]"
   ]
  },
  {
   "cell_type": "code",
   "execution_count": null,
   "id": "bb44fe0a",
   "metadata": {
    "id": "bb44fe0a"
   },
   "outputs": [],
   "source": [
    "modelCompare[[\"Incidents-Any\",\"Incidents-Injuries\",\"Incidents-Fatalities\",\"Total Injuries\",\"Total Fatalities\",\"Produced\"]]\n"
   ]
  },
  {
   "cell_type": "code",
   "execution_count": null,
   "id": "bae23f67",
   "metadata": {
    "id": "bae23f67"
   },
   "outputs": [],
   "source": [
    "fig, ax = plt.subplots()\n",
    "modelCompare.plot.bar(y=[\"Incidents-Any\",\"Incidents-Injuries\",\"Incidents-Fatalities\",\"Produced\"], ax=ax)\n",
    "ax.legend([\"Incidents-Any\",\"Incidents-Injuries\",\"Incidents-Fatalities\",\"Planes Produced\"])\n",
    "ax.set_xlabel(\"Model\")\n",
    "ax.set_ylabel(\"Count\")\n",
    "fig.savefig(\"fig1.png\")"
   ]
  },
  {
   "cell_type": "code",
   "execution_count": null,
   "id": "af5ba433",
   "metadata": {
    "id": "af5ba433"
   },
   "outputs": [],
   "source": [
    "fig, ax = plt.subplots()\n",
    "modelCompare.plot.bar(y=[\"IncidentsRatio\",\"IncidentsInjuriesRatio\",\"IncidentsFatalitiesRatio\"], ax=ax)\n",
    "ax.legend([\"Incidents:Planes Produced\",\"Incidents-Injury:Planes Produced\",\"Incidents-Fatality:Planes Produced\"])\n",
    "fig.savefig(\"fig2.png\")"
   ]
  },
  {
   "cell_type": "code",
   "execution_count": null,
   "id": "bc216017",
   "metadata": {
    "id": "bc216017"
   },
   "outputs": [],
   "source": [
    "df.info()"
   ]
  },
  {
   "cell_type": "code",
   "execution_count": null,
   "id": "ae2d96cb",
   "metadata": {
    "id": "ae2d96cb"
   },
   "outputs": [],
   "source": [
    "df[\"Number.of.Engines\"].value_counts()"
   ]
  }
 ],
 "metadata": {
  "colab": {
   "collapsed_sections": [
    "gd9sitw4YLFy"
   ],
   "provenance": []
  },
  "kernelspec": {
   "display_name": "Python (learn-env)",
   "language": "python",
   "name": "learn-env"
  },
  "language_info": {
   "codemirror_mode": {
    "name": "ipython",
    "version": 3
   },
   "file_extension": ".py",
   "mimetype": "text/x-python",
   "name": "python",
   "nbconvert_exporter": "python",
   "pygments_lexer": "ipython3",
   "version": "3.9.16"
  }
 },
 "nbformat": 4,
 "nbformat_minor": 5
}
