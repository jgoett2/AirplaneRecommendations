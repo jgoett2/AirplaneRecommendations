{
  "cells": [
    {
      "cell_type": "markdown",
      "id": "049cf084",
      "metadata": {
        "id": "049cf084"
      },
      "source": [
        "# NTSB Aviation Accident Database Analysis"
      ]
    },
    {
      "cell_type": "markdown",
      "id": "ceb690bd",
      "metadata": {
        "id": "ceb690bd"
      },
      "source": [
        "The following analysis looks at the NTSB Accident Database (linked here) and looks at accidents as a function of various database features, with the intention of identifying airplanes with a strong safety record that would be good to purchase for leasing purposes.\n",
        "\n",
        "The features this analysis will focus on are:\n",
        "*   Date of Accident\n",
        "*   Airplane Make\n",
        "*   Airplane Model\n",
        "*   Aircraft Damage\n",
        "*   Total Injuries\n",
        "*   Total Fatalities\n",
        "*   Phase of flight\n",
        "\n"
      ]
    },
    {
      "cell_type": "markdown",
      "id": "a62eb587",
      "metadata": {
        "id": "a62eb587"
      },
      "source": [
        "## Data Cleaning"
      ]
    },
    {
      "cell_type": "markdown",
      "source": [
        "This particular analysis will look at the following features of the accident report.  \n",
        "\n",
        "To begin, we will readin the data and clean up each of these features`"
      ],
      "metadata": {
        "id": "EYx_JPpHQCQm"
      },
      "id": "EYx_JPpHQCQm"
    },
    {
      "cell_type": "markdown",
      "source": [
        "### Import the Data"
      ],
      "metadata": {
        "id": "yHqQ13I9QYoo"
      },
      "id": "yHqQ13I9QYoo"
    },
    {
      "cell_type": "code",
      "execution_count": 108,
      "id": "7ddf27b4",
      "metadata": {
        "id": "7ddf27b4"
      },
      "outputs": [],
      "source": [
        "import pandas as pd\n",
        "import numpy as np\n",
        "import matplotlib.pyplot as plt"
      ]
    },
    {
      "cell_type": "code",
      "execution_count": 109,
      "id": "5a61ab7c",
      "metadata": {
        "id": "5a61ab7c",
        "outputId": "c7c5d44c-d774-4e38-a110-87e4aaa4e09b",
        "colab": {
          "base_uri": "https://localhost:8080/"
        }
      },
      "outputs": [
        {
          "output_type": "stream",
          "name": "stderr",
          "text": [
            "<ipython-input-109-eb510d19be85>:2: DtypeWarning: Columns (6,7,28) have mixed types. Specify dtype option on import or set low_memory=False.\n",
            "  df = pd.read_csv(\"https://raw.githubusercontent.com/jgoett2/AirplaneRecommendations/main/Data/Aviation_Data.csv\")\n"
          ]
        }
      ],
      "source": [
        "#df = pd.read_csv(\"Data/Aviation_Data.csv\")\n",
        "df = pd.read_csv(\"https://raw.githubusercontent.com/jgoett2/AirplaneRecommendations/main/Data/Aviation_Data.csv\")"
      ]
    },
    {
      "cell_type": "markdown",
      "id": "de2bc8c7",
      "metadata": {
        "id": "de2bc8c7"
      },
      "source": [
        "### Date of Accident"
      ]
    },
    {
      "cell_type": "markdown",
      "source": [
        "Convert the string representation of Event.Date to a Pandas date-time object and store in same column.  Store the year in a new column \"Year.\""
      ],
      "metadata": {
        "id": "6HQrq4RGQoft"
      },
      "id": "6HQrq4RGQoft"
    },
    {
      "cell_type": "code",
      "execution_count": 110,
      "id": "a8084725",
      "metadata": {
        "id": "a8084725"
      },
      "outputs": [],
      "source": [
        "df[\"Event.Date\"]=pd.to_datetime(df[\"Event.Date\"], format=\"%Y-%m-%d\")\n",
        "\n",
        "df[\"Year\"] = df[\"Event.Date\"].dt.year"
      ]
    },
    {
      "cell_type": "markdown",
      "id": "cf35791e",
      "metadata": {
        "id": "cf35791e"
      },
      "source": [
        "### Normalizing Make and Model"
      ]
    },
    {
      "cell_type": "markdown",
      "source": [
        "This analysis will concentrate on airplane models that are currently in production.  The dataframe models_of_interest holds data about these models.  \n",
        "The database Make and Model values are updated to use consistent naming."
      ],
      "metadata": {
        "id": "zVNrYBdnQ04s"
      },
      "id": "zVNrYBdnQ04s"
    },
    {
      "cell_type": "code",
      "source": [
        "models_of_interest = pd.DataFrame([[\"Boeing\",\"737\",11762,\"narrow-body\"],\n",
        " [\"Boeing\",\"767\",1311,\"wide-body\"], [\"Airbus\",\"A320\",11471,\"narrow-body\"],\n",
        "  [\"Airbus\",\"A340\", 380,\"wide-body\"],[\"Boeing\",'777',1729,\"wide-body\"],\n",
        "   [\"Airbus\",\"A319\",1501,\"narrow-body\"], [\"Airbus\",'A330',1601,\"wide-body\"],\n",
        "    [\"Airbus\",\"A321\",3145,\"narrow-body\"],[\"Boeing\",\"787\",1129,\"wide-body\"],\n",
        "     [\"Airbus\",\"A350\",602,\"wide-body\"], [\"Airbus\",'A220',335,\"narrow-body\"]],\n",
        "                                  columns=[\"Make\",\"Model\",\"Produced\",\"Type\"])"
      ],
      "metadata": {
        "id": "wFJXvdUoXGPP"
      },
      "id": "wFJXvdUoXGPP",
      "execution_count": 111,
      "outputs": []
    },
    {
      "cell_type": "markdown",
      "source": [
        "Update the make and model columns in the dataframe to use the standardized names above."
      ],
      "metadata": {
        "id": "-XPOQ2bkXLEU"
      },
      "id": "-XPOQ2bkXLEU"
    },
    {
      "cell_type": "code",
      "execution_count": 112,
      "id": "d4aeb28e",
      "metadata": {
        "id": "d4aeb28e",
        "outputId": "0a62d8be-3106-498b-c101-270d1420516c",
        "colab": {
          "base_uri": "https://localhost:8080/"
        }
      },
      "outputs": [
        {
          "output_type": "execute_result",
          "data": {
            "text/plain": [
              "array(['Boeing', 'Airbus'], dtype=object)"
            ]
          },
          "metadata": {},
          "execution_count": 112
        }
      ],
      "source": [
        "def normalize(name, normalized_names):\n",
        "    for x in normalized_names:\n",
        "        if x.lower() in str(name).lower():\n",
        "            return x\n",
        "    return name\n",
        "\n",
        "df[\"Make\"]=df[\"Make\"].map(lambda x:str(x))\n",
        "df[\"Model\"]=df[\"Model\"].map(lambda x:str(x))\n",
        "\n",
        "df[\"Make\"]=df[\"Make\"].map(lambda x:normalize(x,models_of_interest[\"Make\"].unique()))\n",
        "df[\"Model\"]=df[\"Model\"].map(lambda x:normalize(x,models_of_interest[\"Model\"].unique()))\n",
        "\n",
        "models_of_interest[\"Make\"].unique()\n"
      ]
    },
    {
      "cell_type": "markdown",
      "source": [
        "Add type of aircraft to dataframe"
      ],
      "metadata": {
        "id": "rFFrs5GJcwd1"
      },
      "id": "rFFrs5GJcwd1"
    },
    {
      "cell_type": "markdown",
      "source": [
        "### Removing Extraneous Records"
      ],
      "metadata": {
        "id": "gd9sitw4YLFy"
      },
      "id": "gd9sitw4YLFy"
    },
    {
      "cell_type": "markdown",
      "id": "3c0926f8",
      "metadata": {
        "id": "3c0926f8"
      },
      "source": [
        "Airplane Makes and Models that are not of interest are removed from the data set."
      ]
    },
    {
      "cell_type": "code",
      "execution_count": 124,
      "id": "4589060a",
      "metadata": {
        "id": "4589060a"
      },
      "outputs": [],
      "source": [
        "filter = df[\"Make\"].map(lambda x:x in models_of_interest[\"Make\"].unique())\n",
        "df = df[filter]\n",
        "\n",
        "filter = df[\"Model\"].map(lambda x:x in models_of_interest[\"Model\"].unique())\n",
        "df = df[filter]"
      ]
    },
    {
      "cell_type": "markdown",
      "source": [
        "Add aircraft type to dataframe."
      ],
      "metadata": {
        "id": "52qn8gW7h7oj"
      },
      "id": "52qn8gW7h7oj"
    },
    {
      "cell_type": "code",
      "source": [
        "models_of_interest = models_of_interest.set_index([\"Make\",\"Model\"])"
      ],
      "metadata": {
        "id": "iGZUZ6vyh68B"
      },
      "id": "iGZUZ6vyh68B",
      "execution_count": 125,
      "outputs": []
    },
    {
      "cell_type": "code",
      "source": [
        "df[\"Airplane.Type\"]=df.apply(lambda x: models_of_interest.loc[(x[\"Make\"],x[\"Model\"])][\"Type\"], axis=1)"
      ],
      "metadata": {
        "id": "DnzrOCt0iHEF"
      },
      "id": "DnzrOCt0iHEF",
      "execution_count": 126,
      "outputs": []
    },
    {
      "cell_type": "code",
      "source": [
        "models_of_interest=models_of_interest.reset_index()"
      ],
      "metadata": {
        "id": "UjAWruxIiQiO"
      },
      "id": "UjAWruxIiQiO",
      "execution_count": 123,
      "outputs": []
    },
    {
      "cell_type": "code",
      "source": [
        "features_of_interest=[\"Event.Date\",\"Year\",\"Make\",\"Model\",\"Airplane.Type\",\"Aircraft.damage\",\"Total.Fatal.Injuries\",\n",
        "                      \"Total.Serious.Injuries\",\"Broad.phase.of.flight\"]"
      ],
      "metadata": {
        "id": "FxnYQHHPZpKr"
      },
      "id": "FxnYQHHPZpKr",
      "execution_count": 127,
      "outputs": []
    },
    {
      "cell_type": "code",
      "source": [
        "df=df[features_of_interest]"
      ],
      "metadata": {
        "id": "_bZW8-hPZcD1"
      },
      "id": "_bZW8-hPZcD1",
      "execution_count": 128,
      "outputs": []
    },
    {
      "cell_type": "code",
      "source": [
        "df.info()"
      ],
      "metadata": {
        "colab": {
          "base_uri": "https://localhost:8080/"
        },
        "id": "gLZjONv-Yz1n",
        "outputId": "66eaad05-8325-43dd-b20c-977c77bc35b1"
      },
      "id": "gLZjONv-Yz1n",
      "execution_count": 129,
      "outputs": [
        {
          "output_type": "stream",
          "name": "stdout",
          "text": [
            "<class 'pandas.core.frame.DataFrame'>\n",
            "Index: 1775 entries, 84 to 90338\n",
            "Data columns (total 9 columns):\n",
            " #   Column                  Non-Null Count  Dtype         \n",
            "---  ------                  --------------  -----         \n",
            " 0   Event.Date              1775 non-null   datetime64[ns]\n",
            " 1   Year                    1775 non-null   float64       \n",
            " 2   Make                    1775 non-null   object        \n",
            " 3   Model                   1775 non-null   object        \n",
            " 4   Airplane.Type           1775 non-null   object        \n",
            " 5   Aircraft.damage         803 non-null    object        \n",
            " 6   Total.Fatal.Injuries    1497 non-null   float64       \n",
            " 7   Total.Serious.Injuries  1530 non-null   float64       \n",
            " 8   Broad.phase.of.flight   396 non-null    object        \n",
            "dtypes: datetime64[ns](1), float64(3), object(5)\n",
            "memory usage: 138.7+ KB\n"
          ]
        }
      ]
    },
    {
      "cell_type": "code",
      "source": [
        "df.to_csv(\"Airplane_data_clean.csv\")"
      ],
      "metadata": {
        "id": "whIdE5W3hIDB"
      },
      "id": "whIdE5W3hIDB",
      "execution_count": 130,
      "outputs": []
    },
    {
      "cell_type": "markdown",
      "id": "b288b1a8",
      "metadata": {
        "id": "b288b1a8"
      },
      "source": [
        "## Data Analysis\n",
        "An analysis then looks at the number of incidents vs. airplane Make and Model."
      ]
    },
    {
      "cell_type": "markdown",
      "source": [
        "### Accidents vs. Time"
      ],
      "metadata": {
        "id": "1Q-RFFeWTYR5"
      },
      "id": "1Q-RFFeWTYR5"
    },
    {
      "cell_type": "code",
      "source": [
        "count, years = np.histogram(df[df[\"Year\"].isna()==False][\"Year\"],bins=range(1982,2024,1))\n",
        "pd.DataFrame(count,index=years[0:41]).plot.bar()"
      ],
      "metadata": {
        "id": "IgRVIvwXT4FT"
      },
      "id": "IgRVIvwXT4FT",
      "execution_count": null,
      "outputs": []
    },
    {
      "cell_type": "markdown",
      "source": [
        "### Injuries by Model"
      ],
      "metadata": {
        "id": "MrkmoOOlTUAd"
      },
      "id": "MrkmoOOlTUAd"
    },
    {
      "cell_type": "code",
      "source": [
        "for col in [\"Total.Serious.Injuries\",\"Total.Fatal.Injuries\"]:\n",
        "    df[col]=df[col].map(lambda x:0 if np.isnan(x) else int(x))\n",
        "\n",
        "incidents = df.groupby([\"Make\",\"Model\"]).count()[\"Total.Serious.Injuries\"]\n",
        "incidents_injuries=df[df[\"Total.Serious.Injuries\"]>0].groupby([\"Make\",\"Model\"]).count()[\"Total.Serious.Injuries\"]\n",
        "\n",
        "incidents_fatal=df[df[\"Total.Fatal.Injuries\"]>0].groupby([\"Make\",\"Model\"]).count()[\"Total.Fatal.Injuries\"]\n",
        "injury_total=df.groupby([\"Make\",\"Model\"]).sum()[[\"Total.Serious.Injuries\",\"Total.Fatal.Injuries\"]]\n"
      ],
      "metadata": {
        "id": "vU6PYEQhYnh2"
      },
      "id": "vU6PYEQhYnh2",
      "execution_count": null,
      "outputs": []
    },
    {
      "cell_type": "code",
      "execution_count": null,
      "id": "4f6f63f3",
      "metadata": {
        "id": "4f6f63f3"
      },
      "outputs": [],
      "source": [
        "modelCompare=pd.concat([incidents,incidents_injuries,incidents_fatal,injury_total],axis=1)\n",
        "modelCompare.columns=[\"Incidents-Any\",\"Incidents-Injuries\",\"Incidents-Fatalities\",\"Total Injuries\",\"Total Fatalities\"]\n",
        "\n",
        "for col in modelCompare.columns:\n",
        "    modelCompare[col]=modelCompare[col].map(lambda x: 0 if np.isnan(x) else int(x))\n",
        "\n",
        "\n",
        "produced = models_of_interest.set_index([\"Make\",\"Model\"])\n",
        "modelCompare = modelCompare.sort_values([\"Make\",\"Model\"])\n",
        "modelCompare = pd.concat([modelCompare,produced], axis=1)\n"
      ]
    },
    {
      "cell_type": "code",
      "execution_count": null,
      "id": "4f83c549",
      "metadata": {
        "id": "4f83c549"
      },
      "outputs": [],
      "source": [
        "modelCompare[\"IncidentsRatio\"]=modelCompare[\"Incidents-Any\"]/modelCompare[\"Produced\"]\n",
        "modelCompare[\"IncidentsFatalitiesRatio\"]=modelCompare[\"Incidents-Fatalities\"]/modelCompare[\"Produced\"]\n",
        "modelCompare[\"IncidentsInjuriesRatio\"]=modelCompare[\"Incidents-Injuries\"]/modelCompare[\"Produced\"]"
      ]
    },
    {
      "cell_type": "code",
      "execution_count": null,
      "id": "bb44fe0a",
      "metadata": {
        "id": "bb44fe0a"
      },
      "outputs": [],
      "source": [
        "modelCompare[[\"Incidents-Any\",\"Incidents-Injuries\",\"Incidents-Fatalities\",\"Total Injuries\",\"Total Fatalities\",\"Produced\"]]\n"
      ]
    },
    {
      "cell_type": "code",
      "execution_count": null,
      "id": "bae23f67",
      "metadata": {
        "id": "bae23f67"
      },
      "outputs": [],
      "source": [
        "fig, ax = plt.subplots()\n",
        "modelCompare.plot.bar(y=[\"Incidents-Any\",\"Incidents-Injuries\",\"Incidents-Fatalities\",\"Produced\"], ax=ax)\n",
        "ax.legend([\"Incidents-Any\",\"Incidents-Injuries\",\"Incidents-Fatalities\",\"Planes Produced\"])\n",
        "ax.set_xlabel(\"Model\")\n",
        "ax.set_ylabel(\"Count\")\n",
        "fig.savefig(\"fig1.png\")"
      ]
    },
    {
      "cell_type": "code",
      "execution_count": null,
      "id": "af5ba433",
      "metadata": {
        "id": "af5ba433"
      },
      "outputs": [],
      "source": [
        "fig, ax = plt.subplots()\n",
        "modelCompare.plot.bar(y=[\"IncidentsRatio\",\"IncidentsInjuriesRatio\",\"IncidentsFatalitiesRatio\"], ax=ax)\n",
        "ax.legend([\"Incidents:Planes Produced\",\"Incidents-Injury:Planes Produced\",\"Incidents-Fatality:Planes Produced\"])\n",
        "fig.savefig(\"fig2.png\")"
      ]
    },
    {
      "cell_type": "code",
      "execution_count": null,
      "id": "bc216017",
      "metadata": {
        "id": "bc216017"
      },
      "outputs": [],
      "source": [
        "df.info()"
      ]
    },
    {
      "cell_type": "code",
      "execution_count": null,
      "id": "ae2d96cb",
      "metadata": {
        "id": "ae2d96cb"
      },
      "outputs": [],
      "source": [
        "df[\"Number.of.Engines\"].value_counts()"
      ]
    }
  ],
  "metadata": {
    "kernelspec": {
      "display_name": "Python (learn-env)",
      "language": "python",
      "name": "learn-env"
    },
    "language_info": {
      "codemirror_mode": {
        "name": "ipython",
        "version": 3
      },
      "file_extension": ".py",
      "mimetype": "text/x-python",
      "name": "python",
      "nbconvert_exporter": "python",
      "pygments_lexer": "ipython3",
      "version": "3.9.16"
    },
    "colab": {
      "provenance": [],
      "collapsed_sections": [
        "yHqQ13I9QYoo",
        "de2bc8c7"
      ],
      "toc_visible": true
    }
  },
  "nbformat": 4,
  "nbformat_minor": 5
}